{
 "cells": [
  {
   "cell_type": "markdown",
   "id": "8e0eaebe",
   "metadata": {},
   "source": [
    "# Count of Reviews by Year-Month"
   ]
  },
  {
   "cell_type": "code",
   "execution_count": 3,
   "id": "55dec69b",
   "metadata": {},
   "outputs": [
    {
     "name": "stdout",
     "output_type": "stream",
     "text": [
      "Requirement already satisfied: mrjob in c:\\users\\aaddi\\anaconda3\\lib\\site-packages (0.7.4)\n",
      "Requirement already satisfied: PyYAML>=3.10 in c:\\users\\aaddi\\anaconda3\\lib\\site-packages (from mrjob) (6.0)\n"
     ]
    }
   ],
   "source": [
    "!pip install mrjob"
   ]
  },
  {
   "cell_type": "code",
   "execution_count": 2,
   "id": "861d6561",
   "metadata": {},
   "outputs": [
    {
     "name": "stdout",
     "output_type": "stream",
     "text": [
      "Writing homework3_2.py\n"
     ]
    }
   ],
   "source": [
    "%%file homework3_2.py\n",
    "from mrjob.job import MRJob\n",
    "import csv\n",
    "\n",
    "class MRYelpYearMonthCount(MRJob):\n",
    "\n",
    "    def mapper(self, _, line):\n",
    "        if line.startswith('business_id'):\n",
    "            pass\n",
    "        else:\n",
    "            reader = csv.reader([line])\n",
    "            parsed_line = next(reader)\n",
    "            yield parsed_line[1][:7], 1\n",
    "        \n",
    "    def reducer(self, key, values):\n",
    "        yield key, sum(listvalues)\n",
    "\n",
    "\n",
    "if __name__ == '__main__':\n",
    "    MRYelpYearMonthCount.run()"
   ]
  }
 ],
 "metadata": {
  "kernelspec": {
   "display_name": "Python 3 (ipykernel)",
   "language": "python",
   "name": "python3"
  },
  "language_info": {
   "codemirror_mode": {
    "name": "ipython",
    "version": 3
   },
   "file_extension": ".py",
   "mimetype": "text/x-python",
   "name": "python",
   "nbconvert_exporter": "python",
   "pygments_lexer": "ipython3",
   "version": "3.9.7"
  }
 },
 "nbformat": 4,
 "nbformat_minor": 5
}
