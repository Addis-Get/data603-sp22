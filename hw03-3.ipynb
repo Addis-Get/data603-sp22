{
 "cells": [
  {
   "cell_type": "markdown",
   "id": "3805a16f",
   "metadata": {},
   "source": [
    "# Average Rating of any eview marked ”cool” "
   ]
  },
  {
   "cell_type": "code",
   "execution_count": 3,
   "id": "81bbf427",
   "metadata": {},
   "outputs": [
    {
     "name": "stdout",
     "output_type": "stream",
     "text": [
      "Requirement already satisfied: mrjob in c:\\users\\aaddi\\anaconda3\\lib\\site-packages (0.7.4)\n",
      "Requirement already satisfied: PyYAML>=3.10 in c:\\users\\aaddi\\anaconda3\\lib\\site-packages (from mrjob) (6.0)\n"
     ]
    }
   ],
   "source": [
    "!pip install mrjob"
   ]
  },
  {
   "cell_type": "code",
   "execution_count": 2,
   "id": "cfd67ff4",
   "metadata": {},
   "outputs": [
    {
     "name": "stdout",
     "output_type": "stream",
     "text": [
      "Writing homework3_3.py\n"
     ]
    }
   ],
   "source": [
    "%%file homework3_3.py\n",
    "from mrjob.job import MRJob\n",
    "import csv\n",
    "\n",
    "class MRYelpCoolRating(MRJob):\n",
    "\n",
    "    def mapper(self, _, line):\n",
    "        if line.startswith('business_id'):\n",
    "            pass\n",
    "        else:\n",
    "        reader = csv.reader([line])\n",
    "        parsed_line = next(reader)\n",
    "        iscool = parsed_line[7] != 0\n",
    "        if iscool:\n",
    "            yield \"cool\", int(parsed_line[4])\n",
    "        \n",
    "    def reducer(self, key, values):\n",
    "        listvalues = list(values)\n",
    "        yield key, sum(listvalues) / len(listvalues)\n",
    "\n",
    "\n",
    "if __name__ == '__main__':\n",
    "    MRYelpCoolRating.run()"
   ]
  }
 ],
 "metadata": {
  "kernelspec": {
   "display_name": "Python 3 (ipykernel)",
   "language": "python",
   "name": "python3"
  },
  "language_info": {
   "codemirror_mode": {
    "name": "ipython",
    "version": 3
   },
   "file_extension": ".py",
   "mimetype": "text/x-python",
   "name": "python",
   "nbconvert_exporter": "python",
   "pygments_lexer": "ipython3",
   "version": "3.9.7"
  }
 },
 "nbformat": 4,
 "nbformat_minor": 5
}
