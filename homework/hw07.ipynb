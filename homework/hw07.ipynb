{
 "cells": [
  {
   "cell_type": "markdown",
   "id": "b58907aa-39ac-4bc3-8e02-4d44fd8d6126",
   "metadata": {},
   "source": [
    "# HW07 - Spark ML"
   ]
  },
  {
   "cell_type": "markdown",
   "id": "266428c4-6a59-41ae-acf7-f9bf8a231682",
   "metadata": {},
   "source": [
    "### Importing libraries"
   ]
  },
  {
   "cell_type": "code",
   "execution_count": 1,
   "id": "ce77fabb-6b10-4b14-b9f2-96e0332176fc",
   "metadata": {},
   "outputs": [],
   "source": [
    "from pyspark.sql import SparkSession\n",
    "from pyspark import SparkContext, SparkConf\n",
    "from pyspark.sql.types import IntegerType, DoubleType\n",
    "from pyspark.sql.functions import mean as _mean, stddev as _stddev, col, when\n",
    "from statistics import mode as _mode\n",
    "from pyspark.ml.linalg import Vectors\n",
    "from pyspark.ml.feature import StringIndexer, VectorAssembler\n",
    "from pyspark.ml.classification import LogisticRegression, DecisionTreeClassifier, RandomForestClassifier, GBTClassifier\n",
    "from pyspark.mllib.classification import LogisticRegressionWithLBFGS\n",
    "from pyspark.mllib.evaluation import BinaryClassificationMetrics\n",
    "from pyspark.ml import Pipeline\n",
    "from pyspark.ml.evaluation import MulticlassClassificationEvaluator\n",
    "from pyspark.mllib.evaluation import MulticlassMetrics\n",
    "from pyspark.mllib.util import MLUtils\n",
    "from pyspark.ml.tuning import ParamGridBuilder, CrossValidator"
   ]
  },
  {
   "cell_type": "markdown",
   "id": "bf0cb391-6567-4903-b2f0-13ac61ac03f9",
   "metadata": {},
   "source": [
    "### Spark dataframe"
   ]
  },
  {
   "cell_type": "code",
   "execution_count": 2,
   "id": "c72ef512-eb4a-4325-a9d8-ffe86fa61ada",
   "metadata": {},
   "outputs": [],
   "source": [
    "spark = SparkSession.builder.getOrCreate()"
   ]
  },
  {
   "cell_type": "markdown",
   "id": "da7bee95-1943-40a8-b8cd-c1657ca184c0",
   "metadata": {},
   "source": [
    "### Load dataset and define schema"
   ]
  },
  {
   "cell_type": "code",
   "execution_count": 3,
   "id": "5997c125-499f-4808-8d25-1c3b3ef5c875",
   "metadata": {},
   "outputs": [
    {
     "data": {
      "text/html": [
       "<div>\n",
       "<style scoped>\n",
       "    .dataframe tbody tr th:only-of-type {\n",
       "        vertical-align: middle;\n",
       "    }\n",
       "\n",
       "    .dataframe tbody tr th {\n",
       "        vertical-align: top;\n",
       "    }\n",
       "\n",
       "    .dataframe thead th {\n",
       "        text-align: right;\n",
       "    }\n",
       "</style>\n",
       "<table border=\"1\" class=\"dataframe\">\n",
       "  <thead>\n",
       "    <tr style=\"text-align: right;\">\n",
       "      <th></th>\n",
       "      <th>Date</th>\n",
       "      <th>Location</th>\n",
       "      <th>MinTemp</th>\n",
       "      <th>MaxTemp</th>\n",
       "      <th>Rainfall</th>\n",
       "      <th>Evaporation</th>\n",
       "      <th>Sunshine</th>\n",
       "      <th>WindGustDir</th>\n",
       "      <th>WindGustSpeed</th>\n",
       "      <th>WindDir9am</th>\n",
       "      <th>...</th>\n",
       "      <th>Humidity9am</th>\n",
       "      <th>Humidity3pm</th>\n",
       "      <th>Pressure9am</th>\n",
       "      <th>Pressure3pm</th>\n",
       "      <th>Cloud9am</th>\n",
       "      <th>Cloud3pm</th>\n",
       "      <th>Temp9am</th>\n",
       "      <th>Temp3pm</th>\n",
       "      <th>RainToday</th>\n",
       "      <th>RainTomorrow</th>\n",
       "    </tr>\n",
       "  </thead>\n",
       "  <tbody>\n",
       "    <tr>\n",
       "      <th>0</th>\n",
       "      <td>2008-12-01</td>\n",
       "      <td>Albury</td>\n",
       "      <td>13.4</td>\n",
       "      <td>22.9</td>\n",
       "      <td>0.6</td>\n",
       "      <td>NA</td>\n",
       "      <td>NA</td>\n",
       "      <td>W</td>\n",
       "      <td>44</td>\n",
       "      <td>W</td>\n",
       "      <td>...</td>\n",
       "      <td>71</td>\n",
       "      <td>22</td>\n",
       "      <td>1007.7</td>\n",
       "      <td>1007.1</td>\n",
       "      <td>8</td>\n",
       "      <td>NA</td>\n",
       "      <td>16.9</td>\n",
       "      <td>21.8</td>\n",
       "      <td>No</td>\n",
       "      <td>No</td>\n",
       "    </tr>\n",
       "    <tr>\n",
       "      <th>1</th>\n",
       "      <td>2008-12-02</td>\n",
       "      <td>Albury</td>\n",
       "      <td>7.4</td>\n",
       "      <td>25.1</td>\n",
       "      <td>0</td>\n",
       "      <td>NA</td>\n",
       "      <td>NA</td>\n",
       "      <td>WNW</td>\n",
       "      <td>44</td>\n",
       "      <td>NNW</td>\n",
       "      <td>...</td>\n",
       "      <td>44</td>\n",
       "      <td>25</td>\n",
       "      <td>1010.6</td>\n",
       "      <td>1007.8</td>\n",
       "      <td>NA</td>\n",
       "      <td>NA</td>\n",
       "      <td>17.2</td>\n",
       "      <td>24.3</td>\n",
       "      <td>No</td>\n",
       "      <td>No</td>\n",
       "    </tr>\n",
       "    <tr>\n",
       "      <th>2</th>\n",
       "      <td>2008-12-03</td>\n",
       "      <td>Albury</td>\n",
       "      <td>12.9</td>\n",
       "      <td>25.7</td>\n",
       "      <td>0</td>\n",
       "      <td>NA</td>\n",
       "      <td>NA</td>\n",
       "      <td>WSW</td>\n",
       "      <td>46</td>\n",
       "      <td>W</td>\n",
       "      <td>...</td>\n",
       "      <td>38</td>\n",
       "      <td>30</td>\n",
       "      <td>1007.6</td>\n",
       "      <td>1008.7</td>\n",
       "      <td>NA</td>\n",
       "      <td>2</td>\n",
       "      <td>21</td>\n",
       "      <td>23.2</td>\n",
       "      <td>No</td>\n",
       "      <td>No</td>\n",
       "    </tr>\n",
       "    <tr>\n",
       "      <th>3</th>\n",
       "      <td>2008-12-04</td>\n",
       "      <td>Albury</td>\n",
       "      <td>9.2</td>\n",
       "      <td>28</td>\n",
       "      <td>0</td>\n",
       "      <td>NA</td>\n",
       "      <td>NA</td>\n",
       "      <td>NE</td>\n",
       "      <td>24</td>\n",
       "      <td>SE</td>\n",
       "      <td>...</td>\n",
       "      <td>45</td>\n",
       "      <td>16</td>\n",
       "      <td>1017.6</td>\n",
       "      <td>1012.8</td>\n",
       "      <td>NA</td>\n",
       "      <td>NA</td>\n",
       "      <td>18.1</td>\n",
       "      <td>26.5</td>\n",
       "      <td>No</td>\n",
       "      <td>No</td>\n",
       "    </tr>\n",
       "    <tr>\n",
       "      <th>4</th>\n",
       "      <td>2008-12-05</td>\n",
       "      <td>Albury</td>\n",
       "      <td>17.5</td>\n",
       "      <td>32.3</td>\n",
       "      <td>1</td>\n",
       "      <td>NA</td>\n",
       "      <td>NA</td>\n",
       "      <td>W</td>\n",
       "      <td>41</td>\n",
       "      <td>ENE</td>\n",
       "      <td>...</td>\n",
       "      <td>82</td>\n",
       "      <td>33</td>\n",
       "      <td>1010.8</td>\n",
       "      <td>1006</td>\n",
       "      <td>7</td>\n",
       "      <td>8</td>\n",
       "      <td>17.8</td>\n",
       "      <td>29.7</td>\n",
       "      <td>No</td>\n",
       "      <td>No</td>\n",
       "    </tr>\n",
       "    <tr>\n",
       "      <th>...</th>\n",
       "      <td>...</td>\n",
       "      <td>...</td>\n",
       "      <td>...</td>\n",
       "      <td>...</td>\n",
       "      <td>...</td>\n",
       "      <td>...</td>\n",
       "      <td>...</td>\n",
       "      <td>...</td>\n",
       "      <td>...</td>\n",
       "      <td>...</td>\n",
       "      <td>...</td>\n",
       "      <td>...</td>\n",
       "      <td>...</td>\n",
       "      <td>...</td>\n",
       "      <td>...</td>\n",
       "      <td>...</td>\n",
       "      <td>...</td>\n",
       "      <td>...</td>\n",
       "      <td>...</td>\n",
       "      <td>...</td>\n",
       "      <td>...</td>\n",
       "    </tr>\n",
       "    <tr>\n",
       "      <th>145455</th>\n",
       "      <td>2017-06-21</td>\n",
       "      <td>Uluru</td>\n",
       "      <td>2.8</td>\n",
       "      <td>23.4</td>\n",
       "      <td>0</td>\n",
       "      <td>NA</td>\n",
       "      <td>NA</td>\n",
       "      <td>E</td>\n",
       "      <td>31</td>\n",
       "      <td>SE</td>\n",
       "      <td>...</td>\n",
       "      <td>51</td>\n",
       "      <td>24</td>\n",
       "      <td>1024.6</td>\n",
       "      <td>1020.3</td>\n",
       "      <td>NA</td>\n",
       "      <td>NA</td>\n",
       "      <td>10.1</td>\n",
       "      <td>22.4</td>\n",
       "      <td>No</td>\n",
       "      <td>No</td>\n",
       "    </tr>\n",
       "    <tr>\n",
       "      <th>145456</th>\n",
       "      <td>2017-06-22</td>\n",
       "      <td>Uluru</td>\n",
       "      <td>3.6</td>\n",
       "      <td>25.3</td>\n",
       "      <td>0</td>\n",
       "      <td>NA</td>\n",
       "      <td>NA</td>\n",
       "      <td>NNW</td>\n",
       "      <td>22</td>\n",
       "      <td>SE</td>\n",
       "      <td>...</td>\n",
       "      <td>56</td>\n",
       "      <td>21</td>\n",
       "      <td>1023.5</td>\n",
       "      <td>1019.1</td>\n",
       "      <td>NA</td>\n",
       "      <td>NA</td>\n",
       "      <td>10.9</td>\n",
       "      <td>24.5</td>\n",
       "      <td>No</td>\n",
       "      <td>No</td>\n",
       "    </tr>\n",
       "    <tr>\n",
       "      <th>145457</th>\n",
       "      <td>2017-06-23</td>\n",
       "      <td>Uluru</td>\n",
       "      <td>5.4</td>\n",
       "      <td>26.9</td>\n",
       "      <td>0</td>\n",
       "      <td>NA</td>\n",
       "      <td>NA</td>\n",
       "      <td>N</td>\n",
       "      <td>37</td>\n",
       "      <td>SE</td>\n",
       "      <td>...</td>\n",
       "      <td>53</td>\n",
       "      <td>24</td>\n",
       "      <td>1021</td>\n",
       "      <td>1016.8</td>\n",
       "      <td>NA</td>\n",
       "      <td>NA</td>\n",
       "      <td>12.5</td>\n",
       "      <td>26.1</td>\n",
       "      <td>No</td>\n",
       "      <td>No</td>\n",
       "    </tr>\n",
       "    <tr>\n",
       "      <th>145458</th>\n",
       "      <td>2017-06-24</td>\n",
       "      <td>Uluru</td>\n",
       "      <td>7.8</td>\n",
       "      <td>27</td>\n",
       "      <td>0</td>\n",
       "      <td>NA</td>\n",
       "      <td>NA</td>\n",
       "      <td>SE</td>\n",
       "      <td>28</td>\n",
       "      <td>SSE</td>\n",
       "      <td>...</td>\n",
       "      <td>51</td>\n",
       "      <td>24</td>\n",
       "      <td>1019.4</td>\n",
       "      <td>1016.5</td>\n",
       "      <td>3</td>\n",
       "      <td>2</td>\n",
       "      <td>15.1</td>\n",
       "      <td>26</td>\n",
       "      <td>No</td>\n",
       "      <td>No</td>\n",
       "    </tr>\n",
       "    <tr>\n",
       "      <th>145459</th>\n",
       "      <td>2017-06-25</td>\n",
       "      <td>Uluru</td>\n",
       "      <td>14.9</td>\n",
       "      <td>NA</td>\n",
       "      <td>0</td>\n",
       "      <td>NA</td>\n",
       "      <td>NA</td>\n",
       "      <td>NA</td>\n",
       "      <td>NA</td>\n",
       "      <td>ESE</td>\n",
       "      <td>...</td>\n",
       "      <td>62</td>\n",
       "      <td>36</td>\n",
       "      <td>1020.2</td>\n",
       "      <td>1017.9</td>\n",
       "      <td>8</td>\n",
       "      <td>8</td>\n",
       "      <td>15</td>\n",
       "      <td>20.9</td>\n",
       "      <td>No</td>\n",
       "      <td>NA</td>\n",
       "    </tr>\n",
       "  </tbody>\n",
       "</table>\n",
       "<p>145460 rows × 23 columns</p>\n",
       "</div>"
      ],
      "text/plain": [
       "              Date Location MinTemp MaxTemp Rainfall Evaporation Sunshine  \\\n",
       "0       2008-12-01   Albury    13.4    22.9      0.6          NA       NA   \n",
       "1       2008-12-02   Albury     7.4    25.1        0          NA       NA   \n",
       "2       2008-12-03   Albury    12.9    25.7        0          NA       NA   \n",
       "3       2008-12-04   Albury     9.2      28        0          NA       NA   \n",
       "4       2008-12-05   Albury    17.5    32.3        1          NA       NA   \n",
       "...            ...      ...     ...     ...      ...         ...      ...   \n",
       "145455  2017-06-21    Uluru     2.8    23.4        0          NA       NA   \n",
       "145456  2017-06-22    Uluru     3.6    25.3        0          NA       NA   \n",
       "145457  2017-06-23    Uluru     5.4    26.9        0          NA       NA   \n",
       "145458  2017-06-24    Uluru     7.8      27        0          NA       NA   \n",
       "145459  2017-06-25    Uluru    14.9      NA        0          NA       NA   \n",
       "\n",
       "       WindGustDir WindGustSpeed WindDir9am  ... Humidity9am Humidity3pm  \\\n",
       "0                W            44          W  ...          71          22   \n",
       "1              WNW            44        NNW  ...          44          25   \n",
       "2              WSW            46          W  ...          38          30   \n",
       "3               NE            24         SE  ...          45          16   \n",
       "4                W            41        ENE  ...          82          33   \n",
       "...            ...           ...        ...  ...         ...         ...   \n",
       "145455           E            31         SE  ...          51          24   \n",
       "145456         NNW            22         SE  ...          56          21   \n",
       "145457           N            37         SE  ...          53          24   \n",
       "145458          SE            28        SSE  ...          51          24   \n",
       "145459          NA            NA        ESE  ...          62          36   \n",
       "\n",
       "       Pressure9am Pressure3pm Cloud9am Cloud3pm Temp9am Temp3pm RainToday  \\\n",
       "0           1007.7      1007.1        8       NA    16.9    21.8        No   \n",
       "1           1010.6      1007.8       NA       NA    17.2    24.3        No   \n",
       "2           1007.6      1008.7       NA        2      21    23.2        No   \n",
       "3           1017.6      1012.8       NA       NA    18.1    26.5        No   \n",
       "4           1010.8        1006        7        8    17.8    29.7        No   \n",
       "...            ...         ...      ...      ...     ...     ...       ...   \n",
       "145455      1024.6      1020.3       NA       NA    10.1    22.4        No   \n",
       "145456      1023.5      1019.1       NA       NA    10.9    24.5        No   \n",
       "145457        1021      1016.8       NA       NA    12.5    26.1        No   \n",
       "145458      1019.4      1016.5        3        2    15.1      26        No   \n",
       "145459      1020.2      1017.9        8        8      15    20.9        No   \n",
       "\n",
       "       RainTomorrow  \n",
       "0                No  \n",
       "1                No  \n",
       "2                No  \n",
       "3                No  \n",
       "4                No  \n",
       "...             ...  \n",
       "145455           No  \n",
       "145456           No  \n",
       "145457           No  \n",
       "145458           No  \n",
       "145459           NA  \n",
       "\n",
       "[145460 rows x 23 columns]"
      ]
     },
     "execution_count": 3,
     "metadata": {},
     "output_type": "execute_result"
    }
   ],
   "source": [
    "df = spark.read.csv('weatherAUS.csv', inferSchema = True, header = True)\n",
    "df.toPandas()"
   ]
  },
  {
   "cell_type": "code",
   "execution_count": 4,
   "id": "1feb77bf-6030-4676-9e2e-a392764f1e2f",
   "metadata": {},
   "outputs": [
    {
     "name": "stdout",
     "output_type": "stream",
     "text": [
      "+----------+--------+-------+-------+--------+-----------+--------+-----------+-------------+----------+----------+------------+------------+-----------+-----------+-----------+-----------+--------+--------+-------+-------+---------+------------+\n",
      "|      Date|Location|MinTemp|MaxTemp|Rainfall|Evaporation|Sunshine|WindGustDir|WindGustSpeed|WindDir9am|WindDir3pm|WindSpeed9am|WindSpeed3pm|Humidity9am|Humidity3pm|Pressure9am|Pressure3pm|Cloud9am|Cloud3pm|Temp9am|Temp3pm|RainToday|RainTomorrow|\n",
      "+----------+--------+-------+-------+--------+-----------+--------+-----------+-------------+----------+----------+------------+------------+-----------+-----------+-----------+-----------+--------+--------+-------+-------+---------+------------+\n",
      "|2008-12-01|  Albury|   13.4|   22.9|     0.6|         NA|      NA|          W|           44|         W|       WNW|          20|          24|         71|         22|     1007.7|     1007.1|       8|      NA|   16.9|   21.8|       No|          No|\n",
      "|2008-12-02|  Albury|    7.4|   25.1|       0|         NA|      NA|        WNW|           44|       NNW|       WSW|           4|          22|         44|         25|     1010.6|     1007.8|      NA|      NA|   17.2|   24.3|       No|          No|\n",
      "|2008-12-03|  Albury|   12.9|   25.7|       0|         NA|      NA|        WSW|           46|         W|       WSW|          19|          26|         38|         30|     1007.6|     1008.7|      NA|       2|     21|   23.2|       No|          No|\n",
      "|2008-12-04|  Albury|    9.2|     28|       0|         NA|      NA|         NE|           24|        SE|         E|          11|           9|         45|         16|     1017.6|     1012.8|      NA|      NA|   18.1|   26.5|       No|          No|\n",
      "|2008-12-05|  Albury|   17.5|   32.3|       1|         NA|      NA|          W|           41|       ENE|        NW|           7|          20|         82|         33|     1010.8|       1006|       7|       8|   17.8|   29.7|       No|          No|\n",
      "+----------+--------+-------+-------+--------+-----------+--------+-----------+-------------+----------+----------+------------+------------+-----------+-----------+-----------+-----------+--------+--------+-------+-------+---------+------------+\n",
      "only showing top 5 rows\n",
      "\n"
     ]
    }
   ],
   "source": [
    "df.show(5)"
   ]
  },
  {
   "cell_type": "markdown",
   "id": "a34e4732-6de4-4cd2-9d0e-76f06fe49ad5",
   "metadata": {},
   "source": [
    "### Drop Columns from the Dataset with too many NA values\n",
    "- Date\n",
    "- Location\n",
    "- Evaporation\n",
    "- Sunshine\n",
    "- WindGustDir\n",
    "- Cloud9am\n",
    "- Cloud3pm\n",
    "- Temp9am\n",
    "- Temp3pm"
   ]
  },
  {
   "cell_type": "code",
   "execution_count": 5,
   "id": "9b728dfd-05e6-4d10-8cde-0afbf3970fda",
   "metadata": {},
   "outputs": [],
   "source": [
    "df = df.drop('Date', 'Location', 'Evaporation', 'Sunshine', 'WindGustDir', 'Cloud9am', 'Cloud3pm', 'Temp9am', 'Temp3pm')"
   ]
  },
  {
   "cell_type": "code",
   "execution_count": 6,
   "id": "ee37df9b-6028-4e58-95e7-cf6cfb015261",
   "metadata": {},
   "outputs": [
    {
     "name": "stdout",
     "output_type": "stream",
     "text": [
      "+-------+-------+--------+-------------+----------+----------+------------+------------+-----------+-----------+-----------+-----------+---------+------------+\n",
      "|MinTemp|MaxTemp|Rainfall|WindGustSpeed|WindDir9am|WindDir3pm|WindSpeed9am|WindSpeed3pm|Humidity9am|Humidity3pm|Pressure9am|Pressure3pm|RainToday|RainTomorrow|\n",
      "+-------+-------+--------+-------------+----------+----------+------------+------------+-----------+-----------+-----------+-----------+---------+------------+\n",
      "|   13.4|   22.9|     0.6|           44|         W|       WNW|          20|          24|         71|         22|     1007.7|     1007.1|       No|          No|\n",
      "|    7.4|   25.1|       0|           44|       NNW|       WSW|           4|          22|         44|         25|     1010.6|     1007.8|       No|          No|\n",
      "|   12.9|   25.7|       0|           46|         W|       WSW|          19|          26|         38|         30|     1007.6|     1008.7|       No|          No|\n",
      "|    9.2|     28|       0|           24|        SE|         E|          11|           9|         45|         16|     1017.6|     1012.8|       No|          No|\n",
      "|   17.5|   32.3|       1|           41|       ENE|        NW|           7|          20|         82|         33|     1010.8|       1006|       No|          No|\n",
      "|   14.6|   29.7|     0.2|           56|         W|         W|          19|          24|         55|         23|     1009.2|     1005.4|       No|          No|\n",
      "|   14.3|     25|       0|           50|        SW|         W|          20|          24|         49|         19|     1009.6|     1008.2|       No|          No|\n",
      "|    7.7|   26.7|       0|           35|       SSE|         W|           6|          17|         48|         19|     1013.4|     1010.1|       No|          No|\n",
      "|    9.7|   31.9|       0|           80|        SE|        NW|           7|          28|         42|          9|     1008.9|     1003.6|       No|         Yes|\n",
      "|   13.1|   30.1|     1.4|           28|         S|       SSE|          15|          11|         58|         27|       1007|     1005.7|      Yes|          No|\n",
      "+-------+-------+--------+-------------+----------+----------+------------+------------+-----------+-----------+-----------+-----------+---------+------------+\n",
      "only showing top 10 rows\n",
      "\n"
     ]
    }
   ],
   "source": [
    "df.show(10)"
   ]
  },
  {
   "cell_type": "code",
   "execution_count": 7,
   "id": "4178cb7d-f740-4e1b-b7f7-091ec1e88628",
   "metadata": {},
   "outputs": [
    {
     "data": {
      "text/plain": [
       "['MinTemp',\n",
       " 'MaxTemp',\n",
       " 'Rainfall',\n",
       " 'WindGustSpeed',\n",
       " 'WindDir9am',\n",
       " 'WindDir3pm',\n",
       " 'WindSpeed9am',\n",
       " 'WindSpeed3pm',\n",
       " 'Humidity9am',\n",
       " 'Humidity3pm',\n",
       " 'Pressure9am',\n",
       " 'Pressure3pm',\n",
       " 'RainToday',\n",
       " 'RainTomorrow']"
      ]
     },
     "execution_count": 7,
     "metadata": {},
     "output_type": "execute_result"
    }
   ],
   "source": [
    "df.columns"
   ]
  },
  {
   "cell_type": "markdown",
   "id": "2a812ab4-d31d-4ea0-92ed-d5141d5ee6e8",
   "metadata": {},
   "source": [
    "### Print the Number of Missing Data in each Column - display the number of **null values in each column"
   ]
  },
  {
   "cell_type": "code",
   "execution_count": 8,
   "id": "4f629c11-add7-4e6d-9dc0-cd747ed5c11d",
   "metadata": {},
   "outputs": [],
   "source": [
    "def missing():\n",
    "    \n",
    "    for columns in df.columns:\n",
    "        print(columns + ' has number of NULLs : ' + str(df[df[columns] == 'NA'].count()))"
   ]
  },
  {
   "cell_type": "code",
   "execution_count": 9,
   "id": "9c577d5f-2878-4d1f-8733-b24c7482857f",
   "metadata": {},
   "outputs": [
    {
     "name": "stdout",
     "output_type": "stream",
     "text": [
      "MinTemp has number of NULLs : 1485\n",
      "MaxTemp has number of NULLs : 1261\n",
      "Rainfall has number of NULLs : 3261\n",
      "WindGustSpeed has number of NULLs : 10263\n",
      "WindDir9am has number of NULLs : 10566\n",
      "WindDir3pm has number of NULLs : 4228\n",
      "WindSpeed9am has number of NULLs : 1767\n",
      "WindSpeed3pm has number of NULLs : 3062\n",
      "Humidity9am has number of NULLs : 2654\n",
      "Humidity3pm has number of NULLs : 4507\n",
      "Pressure9am has number of NULLs : 15065\n",
      "Pressure3pm has number of NULLs : 15028\n",
      "RainToday has number of NULLs : 3261\n",
      "RainTomorrow has number of NULLs : 3267\n"
     ]
    }
   ],
   "source": [
    "missing()"
   ]
  },
  {
   "cell_type": "markdown",
   "id": "65e260c6-7b35-48ce-9235-e3a4da7a89d7",
   "metadata": {},
   "source": [
    "### Fill the Missing Data with Average Value and Maximum Occurrence Value\n",
    "\n",
    "To fill the missing values in the dataset. If it's a **numerical column**, then replace it with the **average of that column**. If it's a **categorical column**, replace it by the **maximum frequency value**."
   ]
  },
  {
   "cell_type": "code",
   "execution_count": 10,
   "id": "d3d67751-33d0-463a-9525-b7deb82a6de9",
   "metadata": {},
   "outputs": [
    {
     "name": "stdout",
     "output_type": "stream",
     "text": [
      "The datatype of MinTemp <class 'str'>\n",
      "The datatype of MaxTemp <class 'str'>\n",
      "The datatype of Rainfall <class 'str'>\n",
      "The datatype of WindGustSpeed <class 'str'>\n",
      "The datatype of WindDir9am <class 'str'>\n",
      "The datatype of WindDir3pm <class 'str'>\n",
      "The datatype of WindSpeed9am <class 'str'>\n",
      "The datatype of WindSpeed3pm <class 'str'>\n",
      "The datatype of Humidity9am <class 'str'>\n",
      "The datatype of Humidity3pm <class 'str'>\n",
      "The datatype of Pressure9am <class 'str'>\n",
      "The datatype of Pressure3pm <class 'str'>\n",
      "The datatype of RainToday <class 'str'>\n",
      "The datatype of RainTomorrow <class 'str'>\n"
     ]
    }
   ],
   "source": [
    "for columns in df.columns:\n",
    "    \n",
    "    print('The datatype of ' + str(columns) + ' ' + str(type(columns)))"
   ]
  },
  {
   "cell_type": "code",
   "execution_count": 11,
   "id": "0a8517de-676d-4f62-8069-1db07aed6f77",
   "metadata": {},
   "outputs": [
    {
     "name": "stdout",
     "output_type": "stream",
     "text": [
      "[Row(avg(MinTemp)=12.194034380968981)]\n",
      "[Row(avg(MaxTemp)=23.221348275647017)]\n",
      "[Row(avg(Rainfall)=2.36091814991655)]\n",
      "[Row(avg(WindGustSpeed)=40.03523007167319)]\n",
      "[Row(avg(WindDir9am)=None)]\n",
      "[Row(avg(WindDir3pm)=None)]\n",
      "[Row(avg(WindSpeed9am)=14.043425914971502)]\n",
      "[Row(avg(WindSpeed3pm)=18.662656778887342)]\n",
      "[Row(avg(Humidity9am)=68.88083133761887)]\n",
      "[Row(avg(Humidity3pm)=51.5391158755046)]\n",
      "[Row(avg(Pressure9am)=1017.6499397983008)]\n",
      "[Row(avg(Pressure3pm)=1015.255888830957)]\n",
      "[Row(avg(RainToday)=None)]\n",
      "[Row(avg(RainTomorrow)=None)]\n"
     ]
    }
   ],
   "source": [
    "for columns in df.columns:\n",
    "    print(df.select(_mean(col(columns))).collect())"
   ]
  },
  {
   "cell_type": "markdown",
   "id": "be844faa-c779-478c-a84d-76bced51e94a",
   "metadata": {},
   "source": [
    "#### For Numerical Columns\n",
    "\n",
    "First find the average of that column and then use that to replace it with the NA's in that column and used the `.describe()`, `.collect()`, `.select()`, `.withColumn()`, `when()` and `otherwise()` methods, in a chained format for replacement."
   ]
  },
  {
   "cell_type": "code",
   "execution_count": 12,
   "id": "eb266e27-227a-434c-8a69-76350a7afcfc",
   "metadata": {},
   "outputs": [],
   "source": [
    "MinTemp_mean = df.select('MinTemp').describe().collect()[1][1]\n",
    "df = df.withColumn('MinTemp', when(df['MinTemp'] == 'NA', MinTemp_mean).\n",
    "                                                                     otherwise(df['MinTemp']))"
   ]
  },
  {
   "cell_type": "code",
   "execution_count": 13,
   "id": "1a43219c-28db-4b5a-9cc9-965d837360a0",
   "metadata": {},
   "outputs": [],
   "source": [
    "MaxTemp_mean = df.select('MaxTemp').describe().collect()[1][1]\n",
    "df = df.withColumn('MaxTemp', when(df['MaxTemp'] == 'NA', MaxTemp_mean).\n",
    "                                                                     otherwise(df['MaxTemp']))"
   ]
  },
  {
   "cell_type": "code",
   "execution_count": 14,
   "id": "8f14c334-c5d2-4ab2-b59d-58ea699b5281",
   "metadata": {},
   "outputs": [],
   "source": [
    "Rainfall_mean = df.select('Rainfall').describe().collect()[1][1]\n",
    "df = df.withColumn('Rainfall', when(df['Rainfall'] == 'NA', Rainfall_mean).\n",
    "                                                                     otherwise(df['Rainfall']))"
   ]
  },
  {
   "cell_type": "code",
   "execution_count": 15,
   "id": "3632eb72-76a8-497e-994a-b2f3fbd3f685",
   "metadata": {},
   "outputs": [],
   "source": [
    "WindGustSpeed_mean = df.select('WindGustSpeed').describe().collect()[1][1]\n",
    "df = df.withColumn('WindGustSpeed', when(df['WindGustSpeed'] == 'NA', WindGustSpeed_mean).\n",
    "                                                                     otherwise(df['WindGustSpeed']))"
   ]
  },
  {
   "cell_type": "code",
   "execution_count": 16,
   "id": "fa7ba3d4-eac8-4138-8f4d-8758ac9ac6df",
   "metadata": {},
   "outputs": [],
   "source": [
    "WindSpeed9am_mean = df.select('WindSpeed9am').describe().collect()[1][1]\n",
    "df = df.withColumn('WindSpeed9am', when(df['WindSpeed9am'] == 'NA', WindSpeed9am_mean).\n",
    "                                                                     otherwise(df['WindSpeed9am']))"
   ]
  },
  {
   "cell_type": "code",
   "execution_count": 17,
   "id": "f1349b30-469e-4dfa-8968-3eaa79d9892a",
   "metadata": {},
   "outputs": [],
   "source": [
    "WindSpeed3pm_mean = df.select('WindSpeed3pm').describe().collect()[1][1]\n",
    "df = df.withColumn('WindSpeed3pm', when(df['WindSpeed3pm'] == 'NA', WindSpeed3pm_mean).\n",
    "                                                                     otherwise(df['WindSpeed3pm']))"
   ]
  },
  {
   "cell_type": "code",
   "execution_count": 18,
   "id": "52abf755-28af-46c9-9234-2e61cd4aca08",
   "metadata": {},
   "outputs": [],
   "source": [
    "Humidity9am_mean = df.select('Humidity9am').describe().collect()[1][1]\n",
    "df = df.withColumn('Humidity9am', when(df['Humidity9am'] == 'NA', Humidity9am_mean).\n",
    "                                                                     otherwise(df['Humidity9am']))"
   ]
  },
  {
   "cell_type": "code",
   "execution_count": 19,
   "id": "82c90ef7-9a45-404b-ac78-d1396ad068ab",
   "metadata": {},
   "outputs": [],
   "source": [
    "Humidity3pm_mean = df.select('Humidity3pm').describe().collect()[1][1]\n",
    "df = df.withColumn('Humidity3pm', when(df['Humidity3pm'] == 'NA', Humidity3pm_mean).\n",
    "                                                                     otherwise(df['Humidity3pm']))"
   ]
  },
  {
   "cell_type": "code",
   "execution_count": 20,
   "id": "825cd6a3-96df-4c2e-bb72-0003b54f8e35",
   "metadata": {},
   "outputs": [],
   "source": [
    "Pressure9am_mean = df.select('Pressure9am').describe().collect()[1][1]\n",
    "df = df.withColumn('Pressure9am', when(df['Pressure9am'] == 'NA', Pressure9am_mean).\n",
    "                                                                     otherwise(df['Pressure9am']))"
   ]
  },
  {
   "cell_type": "code",
   "execution_count": 21,
   "id": "df948f42-40a5-46c3-a3e7-724a8664007e",
   "metadata": {},
   "outputs": [],
   "source": [
    "Pressure3pm_mean = df.select('Pressure3pm').describe().collect()[1][1]\n",
    "df = df.withColumn('Pressure3pm', when(df['Pressure3pm'] == 'NA', Pressure3pm_mean).\n",
    "                                                                     otherwise(df['Pressure3pm']))"
   ]
  },
  {
   "cell_type": "code",
   "execution_count": 22,
   "id": "e24b9c50-daf9-4725-909c-bde4ab8f5442",
   "metadata": {},
   "outputs": [
    {
     "name": "stdout",
     "output_type": "stream",
     "text": [
      "MinTemp has number of NULLs : 0\n",
      "MaxTemp has number of NULLs : 0\n",
      "Rainfall has number of NULLs : 0\n",
      "WindGustSpeed has number of NULLs : 0\n",
      "WindDir9am has number of NULLs : 10566\n",
      "WindDir3pm has number of NULLs : 4228\n",
      "WindSpeed9am has number of NULLs : 0\n",
      "WindSpeed3pm has number of NULLs : 0\n",
      "Humidity9am has number of NULLs : 0\n",
      "Humidity3pm has number of NULLs : 0\n",
      "Pressure9am has number of NULLs : 0\n",
      "Pressure3pm has number of NULLs : 0\n",
      "RainToday has number of NULLs : 3261\n",
      "RainTomorrow has number of NULLs : 3267\n"
     ]
    }
   ],
   "source": [
    "missing()"
   ]
  },
  {
   "cell_type": "markdown",
   "id": "f5e329c9-6443-4b0f-bd34-b5865ef8b582",
   "metadata": {},
   "source": [
    "#### For Categorical Columns\n",
    "For categorical columns, use of the `.groupBy()`, `.count()`, `orderBy()` and `.sort()` methods."
   ]
  },
  {
   "cell_type": "code",
   "execution_count": 23,
   "id": "d814abec-58ac-435d-8b63-5669589ac135",
   "metadata": {},
   "outputs": [
    {
     "name": "stdout",
     "output_type": "stream",
     "text": [
      "+----------+-----+\n",
      "|WindDir9am|count|\n",
      "+----------+-----+\n",
      "|         N|11758|\n",
      "|        NA|10566|\n",
      "|        SE| 9287|\n",
      "|         E| 9176|\n",
      "|       SSE| 9112|\n",
      "|        NW| 8749|\n",
      "|         S| 8659|\n",
      "|         W| 8459|\n",
      "|        SW| 8423|\n",
      "|       NNE| 8129|\n",
      "|       NNW| 7980|\n",
      "|       ENE| 7836|\n",
      "|        NE| 7671|\n",
      "|       ESE| 7630|\n",
      "|       SSW| 7587|\n",
      "|       WNW| 7414|\n",
      "|       WSW| 7024|\n",
      "+----------+-----+\n",
      "\n"
     ]
    }
   ],
   "source": [
    "df.groupBy('WindDir9am').count().orderBy('WindDir9am').sort('count', ascending = False).show()"
   ]
  },
  {
   "cell_type": "code",
   "execution_count": 24,
   "id": "97df1db2-1468-4bca-8f19-9bd269f7c930",
   "metadata": {},
   "outputs": [
    {
     "name": "stdout",
     "output_type": "stream",
     "text": [
      "+----------+-----+\n",
      "|WindDir3pm|count|\n",
      "+----------+-----+\n",
      "|        SE|10838|\n",
      "|         W|10110|\n",
      "|         S| 9926|\n",
      "|       WSW| 9518|\n",
      "|       SSE| 9399|\n",
      "|        SW| 9354|\n",
      "|         N| 8890|\n",
      "|       WNW| 8874|\n",
      "|        NW| 8610|\n",
      "|       ESE| 8505|\n",
      "|         E| 8472|\n",
      "|        NE| 8263|\n",
      "|       SSW| 8156|\n",
      "|       NNW| 7870|\n",
      "|       ENE| 7857|\n",
      "|       NNE| 6590|\n",
      "|        NA| 4228|\n",
      "+----------+-----+\n",
      "\n"
     ]
    }
   ],
   "source": [
    "df.groupBy('WindDir3pm').count().orderBy('WindDir3pm').sort('count', ascending = False).show()"
   ]
  },
  {
   "cell_type": "code",
   "execution_count": 25,
   "id": "e6d01ef3-7df2-422b-8e82-e824c82763e3",
   "metadata": {},
   "outputs": [
    {
     "name": "stdout",
     "output_type": "stream",
     "text": [
      "+---------+------+\n",
      "|RainToday| count|\n",
      "+---------+------+\n",
      "|       No|110319|\n",
      "|      Yes| 31880|\n",
      "|       NA|  3261|\n",
      "+---------+------+\n",
      "\n"
     ]
    }
   ],
   "source": [
    "df.groupBy('RainToday').count().orderBy('RainToday').sort('count', ascending = False).show()"
   ]
  },
  {
   "cell_type": "code",
   "execution_count": 26,
   "id": "ed455fb3-b202-410f-8d6d-20cd451a3e33",
   "metadata": {},
   "outputs": [
    {
     "name": "stdout",
     "output_type": "stream",
     "text": [
      "+------------+------+\n",
      "|RainTomorrow| count|\n",
      "+------------+------+\n",
      "|          No|110316|\n",
      "|         Yes| 31877|\n",
      "|          NA|  3267|\n",
      "+------------+------+\n",
      "\n"
     ]
    }
   ],
   "source": [
    "df.groupBy('RainTomorrow').count().orderBy('RainTomorrow').sort('count', ascending = False).show()"
   ]
  },
  {
   "cell_type": "markdown",
   "id": "80a81070-c531-4a48-9798-145ef49a6784",
   "metadata": {},
   "source": [
    "For categorical columns, `.groupBy()`, `.count()`, `orderBy()` and `.sort()` methods were used on the identified dataset, and then changed their values in the dataset."
   ]
  },
  {
   "cell_type": "code",
   "execution_count": 27,
   "id": "0d764797-b969-4caf-8582-d70ce904e1da",
   "metadata": {},
   "outputs": [
    {
     "data": {
      "text/plain": [
       "'N'"
      ]
     },
     "execution_count": 27,
     "metadata": {},
     "output_type": "execute_result"
    }
   ],
   "source": [
    "WindDir9am_mode = df.groupBy('WindDir9am').count().orderBy('WindDir9am').sort('count', ascending = False).collect()[0][0]\n",
    "WindDir9am_mode"
   ]
  },
  {
   "cell_type": "code",
   "execution_count": 28,
   "id": "77bf0805-a5c8-4750-ae7d-4a5a48112727",
   "metadata": {},
   "outputs": [
    {
     "data": {
      "text/plain": [
       "'SE'"
      ]
     },
     "execution_count": 28,
     "metadata": {},
     "output_type": "execute_result"
    }
   ],
   "source": [
    "WindDir3pm_mode = df.groupBy('WindDir3pm').count().orderBy('WindDir3pm').sort('count', ascending = False).collect()[0][0]\n",
    "WindDir3pm_mode"
   ]
  },
  {
   "cell_type": "code",
   "execution_count": 29,
   "id": "e39ecd44-6f0b-4df6-8e72-5a69bcf4fc47",
   "metadata": {},
   "outputs": [
    {
     "data": {
      "text/plain": [
       "'No'"
      ]
     },
     "execution_count": 29,
     "metadata": {},
     "output_type": "execute_result"
    }
   ],
   "source": [
    "RainToday_mode = df.groupBy('RainToday').count().orderBy('RainToday').sort('count', ascending = False).collect()[0][0]\n",
    "RainToday_mode"
   ]
  },
  {
   "cell_type": "code",
   "execution_count": 30,
   "id": "4dfbba7d-b814-423e-be90-dfa24e32c28a",
   "metadata": {},
   "outputs": [
    {
     "data": {
      "text/plain": [
       "'No'"
      ]
     },
     "execution_count": 30,
     "metadata": {},
     "output_type": "execute_result"
    }
   ],
   "source": [
    "RainTomorrow_mode = df.groupBy('RainTomorrow').count().orderBy('RainTomorrow').sort('count', ascending = False).collect()[0][0]\n",
    "RainTomorrow_mode"
   ]
  },
  {
   "cell_type": "code",
   "execution_count": 31,
   "id": "4d60f55c-fda8-4e40-85f4-b8b6c03cc1bb",
   "metadata": {},
   "outputs": [],
   "source": [
    "df = df.withColumn('WindDir9am', when(df['WindDir9am'] == 'NA', WindDir9am_mode).\n",
    "                                                                     otherwise(df['WindDir9am']))"
   ]
  },
  {
   "cell_type": "code",
   "execution_count": 32,
   "id": "b07db367-edd2-40be-ba7b-51163d4dee6b",
   "metadata": {},
   "outputs": [],
   "source": [
    "df = df.withColumn('WindDir3pm', when(df['WindDir3pm'] == 'NA', WindDir3pm_mode).\n",
    "                                                                     otherwise(df['WindDir3pm']))"
   ]
  },
  {
   "cell_type": "code",
   "execution_count": 33,
   "id": "d8f50b81-0965-4eaf-8c12-f0e270e48c8c",
   "metadata": {},
   "outputs": [],
   "source": [
    "df = df.withColumn('RainToday', when(df['RainToday'] == 'NA', RainToday_mode).\n",
    "                                                                     otherwise(df['RainToday']))"
   ]
  },
  {
   "cell_type": "code",
   "execution_count": 34,
   "id": "48c55d60-b8d9-48c6-b98e-55d5a00bbd1d",
   "metadata": {},
   "outputs": [],
   "source": [
    "df = df.withColumn('RainTomorrow', when(df['RainTomorrow'] == 'NA', RainTomorrow_mode).\n",
    "                                                                     otherwise(df['RainTomorrow']))"
   ]
  },
  {
   "cell_type": "markdown",
   "id": "09035c63-eeeb-425b-8a8a-c1497349a5f1",
   "metadata": {},
   "source": [
    "Once again, let's call our great friend, the `missing()` to get the number of nulls in the dataset. Remember that all the numerical columns were without nulls in the starting of this part."
   ]
  },
  {
   "cell_type": "code",
   "execution_count": 35,
   "id": "eb6c8ae4-05e5-4632-8d2a-72bc8ca33db7",
   "metadata": {},
   "outputs": [
    {
     "name": "stdout",
     "output_type": "stream",
     "text": [
      "MinTemp has number of NULLs : 0\n",
      "MaxTemp has number of NULLs : 0\n",
      "Rainfall has number of NULLs : 0\n",
      "WindGustSpeed has number of NULLs : 0\n",
      "WindDir9am has number of NULLs : 0\n",
      "WindDir3pm has number of NULLs : 0\n",
      "WindSpeed9am has number of NULLs : 0\n",
      "WindSpeed3pm has number of NULLs : 0\n",
      "Humidity9am has number of NULLs : 0\n",
      "Humidity3pm has number of NULLs : 0\n",
      "Pressure9am has number of NULLs : 0\n",
      "Pressure3pm has number of NULLs : 0\n",
      "RainToday has number of NULLs : 0\n",
      "RainTomorrow has number of NULLs : 0\n"
     ]
    }
   ],
   "source": [
    "missing()"
   ]
  },
  {
   "cell_type": "markdown",
   "id": "2afd4a8d-1e3f-4bbc-a891-3c85b932c13a",
   "metadata": {},
   "source": [
    "### Data Transformation\n",
    "\n",
    "Before running Spark ML algorithms and to avoid error,  the numerical columns were converted from **string** to **double** and categorical columns converted from **string** to **numbers**"
   ]
  },
  {
   "cell_type": "code",
   "execution_count": 36,
   "id": "9ced633c-058e-4828-a0e8-52981417e3d2",
   "metadata": {},
   "outputs": [],
   "source": [
    "numerical_list = ['MinTemp', 'MaxTemp', 'Rainfall', 'WindGustSpeed', 'WindSpeed9am', 'WindSpeed3pm', 'Humidity9am',\n",
    "                  'Humidity3pm', 'Pressure9am', 'Pressure3pm']"
   ]
  },
  {
   "cell_type": "code",
   "execution_count": 37,
   "id": "9031771c-6024-4c67-8d1b-dc87b7604f52",
   "metadata": {},
   "outputs": [],
   "source": [
    "for columns in numerical_list:\n",
    "    df = df.withColumn(columns, df[columns].cast(DoubleType()))"
   ]
  },
  {
   "cell_type": "code",
   "execution_count": 38,
   "id": "f4864cce-57ec-444c-be0e-336618fce4d8",
   "metadata": {},
   "outputs": [
    {
     "name": "stdout",
     "output_type": "stream",
     "text": [
      "root\n",
      " |-- MinTemp: double (nullable = true)\n",
      " |-- MaxTemp: double (nullable = true)\n",
      " |-- Rainfall: double (nullable = true)\n",
      " |-- WindGustSpeed: double (nullable = true)\n",
      " |-- WindDir9am: string (nullable = true)\n",
      " |-- WindDir3pm: string (nullable = true)\n",
      " |-- WindSpeed9am: double (nullable = true)\n",
      " |-- WindSpeed3pm: double (nullable = true)\n",
      " |-- Humidity9am: double (nullable = true)\n",
      " |-- Humidity3pm: double (nullable = true)\n",
      " |-- Pressure9am: double (nullable = true)\n",
      " |-- Pressure3pm: double (nullable = true)\n",
      " |-- RainToday: string (nullable = true)\n",
      " |-- RainTomorrow: string (nullable = true)\n",
      "\n"
     ]
    }
   ],
   "source": [
    "df.printSchema()"
   ]
  },
  {
   "cell_type": "markdown",
   "id": "9e0e6d3f-5ec1-4edc-8da7-0c6c3004cc3e",
   "metadata": {},
   "source": [
    "For categorical columns, list named `categorical_list` created, loop over it and use the `StringIndexer()` method, call the `Pipeline()` method on it and finally `.fit()` used to fit it to the dataset."
   ]
  },
  {
   "cell_type": "code",
   "execution_count": 39,
   "id": "3e6031c7-0928-4e8a-b7cb-cd684eb174ef",
   "metadata": {},
   "outputs": [],
   "source": [
    "categorical_list = ['WindDir9am', 'WindDir3pm', 'RainToday', 'RainTomorrow']"
   ]
  },
  {
   "cell_type": "code",
   "execution_count": 40,
   "id": "c5594d15-a867-43b6-8f14-76a321ab2312",
   "metadata": {},
   "outputs": [
    {
     "name": "stdout",
     "output_type": "stream",
     "text": [
      "+-------+-------+--------+-------------+----------+----------+------------+------------+-----------+-----------+-----------+-----------+---------+------------+----------------+----------------+---------------+------------------+\n",
      "|MinTemp|MaxTemp|Rainfall|WindGustSpeed|WindDir9am|WindDir3pm|WindSpeed9am|WindSpeed3pm|Humidity9am|Humidity3pm|Pressure9am|Pressure3pm|RainToday|RainTomorrow|WindDir9am_index|WindDir3pm_index|RainToday_index|RainTomorrow_index|\n",
      "+-------+-------+--------+-------------+----------+----------+------------+------------+-----------+-----------+-----------+-----------+---------+------------+----------------+----------------+---------------+------------------+\n",
      "|   13.4|   22.9|     0.6|         44.0|         W|       WNW|        20.0|        24.0|       71.0|       22.0|     1007.7|     1007.1|       No|          No|             6.0|             7.0|            0.0|               0.0|\n",
      "|    7.4|   25.1|     0.0|         44.0|       NNW|       WSW|         4.0|        22.0|       44.0|       25.0|     1010.6|     1007.8|       No|          No|             9.0|             3.0|            0.0|               0.0|\n",
      "|   12.9|   25.7|     0.0|         46.0|         W|       WSW|        19.0|        26.0|       38.0|       30.0|     1007.6|     1008.7|       No|          No|             6.0|             3.0|            0.0|               0.0|\n",
      "|    9.2|   28.0|     0.0|         24.0|        SE|         E|        11.0|         9.0|       45.0|       16.0|     1017.6|     1012.8|       No|          No|             1.0|            10.0|            0.0|               0.0|\n",
      "|   17.5|   32.3|     1.0|         41.0|       ENE|        NW|         7.0|        20.0|       82.0|       33.0|     1010.8|     1006.0|       No|          No|            10.0|             8.0|            0.0|               0.0|\n",
      "|   14.6|   29.7|     0.2|         56.0|         W|         W|        19.0|        24.0|       55.0|       23.0|     1009.2|     1005.4|       No|          No|             6.0|             1.0|            0.0|               0.0|\n",
      "|   14.3|   25.0|     0.0|         50.0|        SW|         W|        20.0|        24.0|       49.0|       19.0|     1009.6|     1008.2|       No|          No|             7.0|             1.0|            0.0|               0.0|\n",
      "|    7.7|   26.7|     0.0|         35.0|       SSE|         W|         6.0|        17.0|       48.0|       19.0|     1013.4|     1010.1|       No|          No|             3.0|             1.0|            0.0|               0.0|\n",
      "|    9.7|   31.9|     0.0|         80.0|        SE|        NW|         7.0|        28.0|       42.0|        9.0|     1008.9|     1003.6|       No|         Yes|             1.0|             8.0|            0.0|               1.0|\n",
      "|   13.1|   30.1|     1.4|         28.0|         S|       SSE|        15.0|        11.0|       58.0|       27.0|     1007.0|     1005.7|      Yes|          No|             5.0|             4.0|            1.0|               0.0|\n",
      "+-------+-------+--------+-------------+----------+----------+------------+------------+-----------+-----------+-----------+-----------+---------+------------+----------------+----------------+---------------+------------------+\n",
      "only showing top 10 rows\n",
      "\n"
     ]
    }
   ],
   "source": [
    "indexers = [StringIndexer(inputCol = column, outputCol = column + \"_index\").fit(df) for column in categorical_list]\n",
    "\n",
    "\n",
    "pipeline = Pipeline(stages = indexers)\n",
    "df_indexers = pipeline.fit(df).transform(df)\n",
    "\n",
    "df_indexers.show(10)"
   ]
  },
  {
   "cell_type": "code",
   "execution_count": 41,
   "id": "d76bc943-1468-4ab8-9717-47a6f29467e5",
   "metadata": {},
   "outputs": [
    {
     "name": "stdout",
     "output_type": "stream",
     "text": [
      "+-------+-------+--------+-------------+------------+------------+-----------+-----------+-----------+-----------+----------------+----------------+---------------+------------------+\n",
      "|MinTemp|MaxTemp|Rainfall|WindGustSpeed|WindSpeed9am|WindSpeed3pm|Humidity9am|Humidity3pm|Pressure9am|Pressure3pm|WindDir9am_index|WindDir3pm_index|RainToday_index|RainTomorrow_index|\n",
      "+-------+-------+--------+-------------+------------+------------+-----------+-----------+-----------+-----------+----------------+----------------+---------------+------------------+\n",
      "|   13.4|   22.9|     0.6|         44.0|        20.0|        24.0|       71.0|       22.0|     1007.7|     1007.1|             6.0|             7.0|            0.0|               0.0|\n",
      "|    7.4|   25.1|     0.0|         44.0|         4.0|        22.0|       44.0|       25.0|     1010.6|     1007.8|             9.0|             3.0|            0.0|               0.0|\n",
      "|   12.9|   25.7|     0.0|         46.0|        19.0|        26.0|       38.0|       30.0|     1007.6|     1008.7|             6.0|             3.0|            0.0|               0.0|\n",
      "|    9.2|   28.0|     0.0|         24.0|        11.0|         9.0|       45.0|       16.0|     1017.6|     1012.8|             1.0|            10.0|            0.0|               0.0|\n",
      "|   17.5|   32.3|     1.0|         41.0|         7.0|        20.0|       82.0|       33.0|     1010.8|     1006.0|            10.0|             8.0|            0.0|               0.0|\n",
      "+-------+-------+--------+-------------+------------+------------+-----------+-----------+-----------+-----------+----------------+----------------+---------------+------------------+\n",
      "only showing top 5 rows\n",
      "\n"
     ]
    }
   ],
   "source": [
    "drop = ['WindGustDir', 'WindDir9am', 'WindDir3pm', 'RainToday', 'RainTomorrow']\n",
    "\n",
    "df_indexers = df_indexers.drop(*drop)\n",
    "\n",
    "df_indexers.show(5)"
   ]
  },
  {
   "cell_type": "markdown",
   "id": "8bea2034-9b22-4e90-a544-fe0a791507d6",
   "metadata": {},
   "source": [
    "### Create the Feature Vector and Divide the Dataset"
   ]
  },
  {
   "cell_type": "code",
   "execution_count": 42,
   "id": "fc35468d-19cf-4bd2-801b-013803cb644c",
   "metadata": {},
   "outputs": [],
   "source": [
    "target = ['RainTomorrow_index']\n",
    "\n",
    "assembler = VectorAssembler(\n",
    "    inputCols = [columns for columns in df_indexers.columns if columns not in target],\n",
    "    outputCol = 'feature_vector')\n",
    "\n",
    "df_indexers_data = assembler.transform(df_indexers) "
   ]
  },
  {
   "cell_type": "code",
   "execution_count": 43,
   "id": "96319bc6-1d5b-4775-8bca-a3142ad52718",
   "metadata": {},
   "outputs": [
    {
     "name": "stdout",
     "output_type": "stream",
     "text": [
      "+-------+-------+--------+-------------+------------+------------+-----------+-----------+-----------+-----------+----------------+----------------+---------------+------------------+--------------------+\n",
      "|MinTemp|MaxTemp|Rainfall|WindGustSpeed|WindSpeed9am|WindSpeed3pm|Humidity9am|Humidity3pm|Pressure9am|Pressure3pm|WindDir9am_index|WindDir3pm_index|RainToday_index|RainTomorrow_index|      feature_vector|\n",
      "+-------+-------+--------+-------------+------------+------------+-----------+-----------+-----------+-----------+----------------+----------------+---------------+------------------+--------------------+\n",
      "|   13.4|   22.9|     0.6|         44.0|        20.0|        24.0|       71.0|       22.0|     1007.7|     1007.1|             6.0|             7.0|            0.0|               0.0|[13.4,22.9,0.6,44...|\n",
      "|    7.4|   25.1|     0.0|         44.0|         4.0|        22.0|       44.0|       25.0|     1010.6|     1007.8|             9.0|             3.0|            0.0|               0.0|[7.4,25.1,0.0,44....|\n",
      "|   12.9|   25.7|     0.0|         46.0|        19.0|        26.0|       38.0|       30.0|     1007.6|     1008.7|             6.0|             3.0|            0.0|               0.0|[12.9,25.7,0.0,46...|\n",
      "|    9.2|   28.0|     0.0|         24.0|        11.0|         9.0|       45.0|       16.0|     1017.6|     1012.8|             1.0|            10.0|            0.0|               0.0|[9.2,28.0,0.0,24....|\n",
      "|   17.5|   32.3|     1.0|         41.0|         7.0|        20.0|       82.0|       33.0|     1010.8|     1006.0|            10.0|             8.0|            0.0|               0.0|[17.5,32.3,1.0,41...|\n",
      "+-------+-------+--------+-------------+------------+------------+-----------+-----------+-----------+-----------+----------------+----------------+---------------+------------------+--------------------+\n",
      "only showing top 5 rows\n",
      "\n"
     ]
    }
   ],
   "source": [
    "df_indexers_data.show(5)"
   ]
  },
  {
   "cell_type": "code",
   "execution_count": 44,
   "id": "6b990ec6-6eb4-4259-8bc2-499f9b77885a",
   "metadata": {},
   "outputs": [],
   "source": [
    "rain_test, rain_train = df_indexers_data.randomSplit([0.2, 0.8], seed = 12345)"
   ]
  },
  {
   "cell_type": "code",
   "execution_count": 45,
   "id": "9982cce3-6eb6-4eaa-9cb6-66919ca1b8ff",
   "metadata": {},
   "outputs": [
    {
     "data": {
      "text/plain": [
       "29194"
      ]
     },
     "execution_count": 45,
     "metadata": {},
     "output_type": "execute_result"
    }
   ],
   "source": [
    "rain_test.count()"
   ]
  },
  {
   "cell_type": "code",
   "execution_count": 46,
   "id": "36edabb1-8e87-462a-bee4-4d8b0c4fb894",
   "metadata": {},
   "outputs": [
    {
     "data": {
      "text/plain": [
       "116266"
      ]
     },
     "execution_count": 46,
     "metadata": {},
     "output_type": "execute_result"
    }
   ],
   "source": [
    "rain_train.count()"
   ]
  },
  {
   "cell_type": "markdown",
   "id": "6e26bd0e-e305-48c1-bf46-41cd87ddd1d8",
   "metadata": {},
   "source": [
    "### Decision Tree Classifier"
   ]
  },
  {
   "cell_type": "markdown",
   "id": "094ddc35-8295-4260-8724-6b11ded17e44",
   "metadata": {},
   "source": [
    "Using the `DecisionTreeClassifier()` and `.fit()` method on the training data."
   ]
  },
  {
   "cell_type": "code",
   "execution_count": 47,
   "id": "fe6882d8-68f7-4aac-995a-b39b79484133",
   "metadata": {},
   "outputs": [],
   "source": [
    "DT_Classifier = DecisionTreeClassifier(labelCol = 'RainTomorrow_index', featuresCol = 'feature_vector')\n",
    "DT_Model = DT_Classifier.fit(rain_train)"
   ]
  },
  {
   "cell_type": "code",
   "execution_count": 48,
   "id": "4906b04b-e7e1-4ed4-96cf-5b6b78870e9e",
   "metadata": {},
   "outputs": [],
   "source": [
    "DT_Prediction = DT_Model.transform(rain_test)"
   ]
  },
  {
   "cell_type": "code",
   "execution_count": 49,
   "id": "91cf92b1-3931-47dd-84e4-13aabe726006",
   "metadata": {},
   "outputs": [
    {
     "data": {
      "text/plain": [
       "[Row(MinTemp=-4.7, MaxTemp=8.3, Rainfall=0.0, WindGustSpeed=30.0, WindSpeed9am=2.0, WindSpeed3pm=15.0, Humidity9am=76.0, Humidity3pm=64.0, Pressure9am=1026.7, Pressure3pm=1025.4, WindDir9am_index=12.0, WindDir3pm_index=5.0, RainToday_index=0.0, RainTomorrow_index=1.0, feature_vector=DenseVector([-4.7, 8.3, 0.0, 30.0, 2.0, 15.0, 76.0, 64.0, 1026.7, 1025.4, 12.0, 5.0, 0.0]), rawPrediction=DenseVector([27576.0, 6012.0]), probability=DenseVector([0.821, 0.179]), prediction=0.0),\n",
       " Row(MinTemp=-3.2, MaxTemp=15.7, Rainfall=0.0, WindGustSpeed=20.0, WindSpeed9am=2.0, WindSpeed3pm=13.0, Humidity9am=71.0, Humidity3pm=36.0, Pressure9am=1026.2, Pressure3pm=1023.0, WindDir9am_index=10.0, WindDir3pm_index=3.0, RainToday_index=0.0, RainTomorrow_index=0.0, feature_vector=DenseVector([-3.2, 15.7, 0.0, 20.0, 2.0, 13.0, 71.0, 36.0, 1026.2, 1023.0, 10.0, 3.0, 0.0]), rawPrediction=DenseVector([50758.0, 4361.0]), probability=DenseVector([0.9209, 0.0791]), prediction=0.0),\n",
       " Row(MinTemp=-3.1, MaxTemp=16.9, Rainfall=0.0, WindGustSpeed=39.0, WindSpeed9am=2.0, WindSpeed3pm=26.0, Humidity9am=83.0, Humidity3pm=35.0, Pressure9am=1020.0, Pressure3pm=1016.1, WindDir9am_index=1.0, WindDir3pm_index=7.0, RainToday_index=0.0, RainTomorrow_index=0.0, feature_vector=DenseVector([-3.1, 16.9, 0.0, 39.0, 2.0, 26.0, 83.0, 35.0, 1020.0, 1016.1, 1.0, 7.0, 0.0]), rawPrediction=DenseVector([50758.0, 4361.0]), probability=DenseVector([0.9209, 0.0791]), prediction=0.0),\n",
       " Row(MinTemp=-3.0, MaxTemp=13.3, Rainfall=0.0, WindGustSpeed=26.0, WindSpeed9am=7.0, WindSpeed3pm=13.0, Humidity9am=74.0, Humidity3pm=46.0, Pressure9am=1035.2, Pressure3pm=1032.6, WindDir9am_index=10.0, WindDir3pm_index=5.0, RainToday_index=0.0, RainTomorrow_index=0.0, feature_vector=DenseVector([-3.0, 13.3, 0.0, 26.0, 7.0, 13.0, 74.0, 46.0, 1035.2, 1032.6, 10.0, 5.0, 0.0]), rawPrediction=DenseVector([50758.0, 4361.0]), probability=DenseVector([0.9209, 0.0791]), prediction=0.0),\n",
       " Row(MinTemp=-2.9, MaxTemp=12.2, Rainfall=0.0, WindGustSpeed=22.0, WindSpeed9am=0.0, WindSpeed3pm=11.0, Humidity9am=87.0, Humidity3pm=49.0, Pressure9am=1023.2, Pressure3pm=1019.1, WindDir9am_index=0.0, WindDir3pm_index=7.0, RainToday_index=0.0, RainTomorrow_index=1.0, feature_vector=DenseVector([-2.9, 12.2, 0.0, 22.0, 0.0, 11.0, 87.0, 49.0, 1023.2, 1019.1, 0.0, 7.0, 0.0]), rawPrediction=DenseVector([50758.0, 4361.0]), probability=DenseVector([0.9209, 0.0791]), prediction=0.0)]"
      ]
     },
     "execution_count": 49,
     "metadata": {},
     "output_type": "execute_result"
    }
   ],
   "source": [
    "DT_Prediction.head(5)"
   ]
  },
  {
   "cell_type": "code",
   "execution_count": 50,
   "id": "b24aee64-f856-4b0c-b94d-9c0258bf6c50",
   "metadata": {},
   "outputs": [],
   "source": [
    "DT_Evaluator = MulticlassClassificationEvaluator(labelCol =  'RainTomorrow_index', predictionCol = 'prediction')"
   ]
  },
  {
   "cell_type": "code",
   "execution_count": 51,
   "id": "a37824d1-8dfb-4feb-9800-2cc9e860c860",
   "metadata": {},
   "outputs": [],
   "source": [
    "DT_Accuracy = DT_Evaluator.evaluate(DT_Prediction)"
   ]
  },
  {
   "cell_type": "code",
   "execution_count": 52,
   "id": "bb10c633-ba9b-4e84-8c38-9e68fde18595",
   "metadata": {},
   "outputs": [
    {
     "name": "stdout",
     "output_type": "stream",
     "text": [
      "Decision Tree Accuracy is : 81.67422935736865\n",
      "Test Error is : 0.18325770642631356\n"
     ]
    }
   ],
   "source": [
    "print('Decision Tree Accuracy is : ' + str(DT_Accuracy * 100))\n",
    "print('Test Error is : ' + str(1 - DT_Accuracy))"
   ]
  },
  {
   "cell_type": "markdown",
   "id": "e4205577-250b-4817-a5af-2942477d57eb",
   "metadata": {},
   "source": [
    "### Random Forest"
   ]
  },
  {
   "cell_type": "markdown",
   "id": "b07f4931-d9fe-45fd-af35-e34eab5794f9",
   "metadata": {},
   "source": [
    "Using the `RandomForestClassifier()` and `.fit()` method on the training data."
   ]
  },
  {
   "cell_type": "code",
   "execution_count": 53,
   "id": "7ea47295-ae0d-46bb-b9a1-ceca93de9539",
   "metadata": {},
   "outputs": [],
   "source": [
    "RF_Classifier = RandomForestClassifier(labelCol = 'RainTomorrow_index', featuresCol = 'feature_vector',  maxDepth = 5,\n",
    "    maxBins = 32, numTrees = 500)\n",
    "\n",
    "RF_Model = RF_Classifier.fit(rain_train)"
   ]
  },
  {
   "cell_type": "code",
   "execution_count": 54,
   "id": "209cb780-a331-4d8f-abed-97ca70ba121f",
   "metadata": {},
   "outputs": [],
   "source": [
    "RF_Prediction = RF_Model.transform(rain_test)"
   ]
  },
  {
   "cell_type": "code",
   "execution_count": 55,
   "id": "1345f424-9232-4929-993b-b92221dc6e2d",
   "metadata": {},
   "outputs": [
    {
     "data": {
      "text/plain": [
       "[Row(MinTemp=-4.7, MaxTemp=8.3, Rainfall=0.0, WindGustSpeed=30.0, WindSpeed9am=2.0, WindSpeed3pm=15.0, Humidity9am=76.0, Humidity3pm=64.0, Pressure9am=1026.7, Pressure3pm=1025.4, WindDir9am_index=12.0, WindDir3pm_index=5.0, RainToday_index=0.0, RainTomorrow_index=1.0, feature_vector=DenseVector([-4.7, 8.3, 0.0, 30.0, 2.0, 15.0, 76.0, 64.0, 1026.7, 1025.4, 12.0, 5.0, 0.0]), rawPrediction=DenseVector([441.3777, 58.6223]), probability=DenseVector([0.8828, 0.1172]), prediction=0.0),\n",
       " Row(MinTemp=-3.2, MaxTemp=15.7, Rainfall=0.0, WindGustSpeed=20.0, WindSpeed9am=2.0, WindSpeed3pm=13.0, Humidity9am=71.0, Humidity3pm=36.0, Pressure9am=1026.2, Pressure3pm=1023.0, WindDir9am_index=10.0, WindDir3pm_index=3.0, RainToday_index=0.0, RainTomorrow_index=0.0, feature_vector=DenseVector([-3.2, 15.7, 0.0, 20.0, 2.0, 13.0, 71.0, 36.0, 1026.2, 1023.0, 10.0, 3.0, 0.0]), rawPrediction=DenseVector([447.5913, 52.4087]), probability=DenseVector([0.8952, 0.1048]), prediction=0.0),\n",
       " Row(MinTemp=-3.1, MaxTemp=16.9, Rainfall=0.0, WindGustSpeed=39.0, WindSpeed9am=2.0, WindSpeed3pm=26.0, Humidity9am=83.0, Humidity3pm=35.0, Pressure9am=1020.0, Pressure3pm=1016.1, WindDir9am_index=1.0, WindDir3pm_index=7.0, RainToday_index=0.0, RainTomorrow_index=0.0, feature_vector=DenseVector([-3.1, 16.9, 0.0, 39.0, 2.0, 26.0, 83.0, 35.0, 1020.0, 1016.1, 1.0, 7.0, 0.0]), rawPrediction=DenseVector([441.2292, 58.7708]), probability=DenseVector([0.8825, 0.1175]), prediction=0.0),\n",
       " Row(MinTemp=-3.0, MaxTemp=13.3, Rainfall=0.0, WindGustSpeed=26.0, WindSpeed9am=7.0, WindSpeed3pm=13.0, Humidity9am=74.0, Humidity3pm=46.0, Pressure9am=1035.2, Pressure3pm=1032.6, WindDir9am_index=10.0, WindDir3pm_index=5.0, RainToday_index=0.0, RainTomorrow_index=0.0, feature_vector=DenseVector([-3.0, 13.3, 0.0, 26.0, 7.0, 13.0, 74.0, 46.0, 1035.2, 1032.6, 10.0, 5.0, 0.0]), rawPrediction=DenseVector([447.0669, 52.9331]), probability=DenseVector([0.8941, 0.1059]), prediction=0.0),\n",
       " Row(MinTemp=-2.9, MaxTemp=12.2, Rainfall=0.0, WindGustSpeed=22.0, WindSpeed9am=0.0, WindSpeed3pm=11.0, Humidity9am=87.0, Humidity3pm=49.0, Pressure9am=1023.2, Pressure3pm=1019.1, WindDir9am_index=0.0, WindDir3pm_index=7.0, RainToday_index=0.0, RainTomorrow_index=1.0, feature_vector=DenseVector([-2.9, 12.2, 0.0, 22.0, 0.0, 11.0, 87.0, 49.0, 1023.2, 1019.1, 0.0, 7.0, 0.0]), rawPrediction=DenseVector([441.8726, 58.1274]), probability=DenseVector([0.8837, 0.1163]), prediction=0.0)]"
      ]
     },
     "execution_count": 55,
     "metadata": {},
     "output_type": "execute_result"
    }
   ],
   "source": [
    "RF_Prediction.head(5)"
   ]
  },
  {
   "cell_type": "code",
   "execution_count": 56,
   "id": "fe5f7266-8798-4032-8fb4-c4f575b1684b",
   "metadata": {},
   "outputs": [],
   "source": [
    "RF_Evaluator = MulticlassClassificationEvaluator(labelCol = 'RainTomorrow_index', predictionCol = 'prediction')"
   ]
  },
  {
   "cell_type": "code",
   "execution_count": 57,
   "id": "b708f3ec-5ebe-4a26-8f75-bf3e60fb86ce",
   "metadata": {},
   "outputs": [],
   "source": [
    "RF_Accuracy = RF_Evaluator.evaluate(RF_Prediction)"
   ]
  },
  {
   "cell_type": "code",
   "execution_count": 58,
   "id": "f34d4d08-3758-4d9c-b9e0-d5214140c285",
   "metadata": {},
   "outputs": [
    {
     "name": "stdout",
     "output_type": "stream",
     "text": [
      "Random Forest Accuracy is : 81.33219333347263\n",
      "Test Error is : 0.18667806666527365\n"
     ]
    }
   ],
   "source": [
    "print('Random Forest Accuracy is : ' + str(RF_Accuracy * 100))\n",
    "print('Test Error is : ' + str(1 - RF_Accuracy))"
   ]
  },
  {
   "cell_type": "markdown",
   "id": "1505af44-ad5b-4da6-a772-d44166bf30c1",
   "metadata": {},
   "source": [
    "### Gradient Boosted Tree"
   ]
  },
  {
   "cell_type": "markdown",
   "id": "01391391-faa8-47c0-8e18-757417b6d6bf",
   "metadata": {},
   "source": [
    "Using the `GBTClassifier()` and `.fit()` method on the training data."
   ]
  },
  {
   "cell_type": "code",
   "execution_count": 59,
   "id": "5097c6e1-c908-435d-9e2d-6b9d3c877e8f",
   "metadata": {},
   "outputs": [],
   "source": [
    "GBT_Classifier = GBTClassifier(labelCol = 'RainTomorrow_index', featuresCol = 'feature_vector', maxIter = 20, maxDepth = 5, \n",
    "                               maxBins = 32)"
   ]
  },
  {
   "cell_type": "code",
   "execution_count": 60,
   "id": "cd9d83a5-39ec-4f2d-9032-34721d944f54",
   "metadata": {},
   "outputs": [],
   "source": [
    "GBT_Model = GBT_Classifier.fit(rain_train)"
   ]
  },
  {
   "cell_type": "code",
   "execution_count": 61,
   "id": "48ad6dc0-bbac-4b51-ae2e-2af44f2a63a1",
   "metadata": {},
   "outputs": [],
   "source": [
    "GBT_Prediction = GBT_Model.transform(rain_test)"
   ]
  },
  {
   "cell_type": "code",
   "execution_count": 62,
   "id": "b576bee7-5459-4837-9bde-5be245850682",
   "metadata": {},
   "outputs": [
    {
     "data": {
      "text/plain": [
       "[Row(MinTemp=-4.7, MaxTemp=8.3, Rainfall=0.0, WindGustSpeed=30.0, WindSpeed9am=2.0, WindSpeed3pm=15.0, Humidity9am=76.0, Humidity3pm=64.0, Pressure9am=1026.7, Pressure3pm=1025.4, WindDir9am_index=12.0, WindDir3pm_index=5.0, RainToday_index=0.0, RainTomorrow_index=1.0, feature_vector=DenseVector([-4.7, 8.3, 0.0, 30.0, 2.0, 15.0, 76.0, 64.0, 1026.7, 1025.4, 12.0, 5.0, 0.0]), rawPrediction=DenseVector([1.0593, -1.0593]), probability=DenseVector([0.8927, 0.1073]), prediction=0.0),\n",
       " Row(MinTemp=-3.2, MaxTemp=15.7, Rainfall=0.0, WindGustSpeed=20.0, WindSpeed9am=2.0, WindSpeed3pm=13.0, Humidity9am=71.0, Humidity3pm=36.0, Pressure9am=1026.2, Pressure3pm=1023.0, WindDir9am_index=10.0, WindDir3pm_index=3.0, RainToday_index=0.0, RainTomorrow_index=0.0, feature_vector=DenseVector([-3.2, 15.7, 0.0, 20.0, 2.0, 13.0, 71.0, 36.0, 1026.2, 1023.0, 10.0, 3.0, 0.0]), rawPrediction=DenseVector([1.428, -1.428]), probability=DenseVector([0.9456, 0.0544]), prediction=0.0),\n",
       " Row(MinTemp=-3.1, MaxTemp=16.9, Rainfall=0.0, WindGustSpeed=39.0, WindSpeed9am=2.0, WindSpeed3pm=26.0, Humidity9am=83.0, Humidity3pm=35.0, Pressure9am=1020.0, Pressure3pm=1016.1, WindDir9am_index=1.0, WindDir3pm_index=7.0, RainToday_index=0.0, RainTomorrow_index=0.0, feature_vector=DenseVector([-3.1, 16.9, 0.0, 39.0, 2.0, 26.0, 83.0, 35.0, 1020.0, 1016.1, 1.0, 7.0, 0.0]), rawPrediction=DenseVector([1.2085, -1.2085]), probability=DenseVector([0.9181, 0.0819]), prediction=0.0),\n",
       " Row(MinTemp=-3.0, MaxTemp=13.3, Rainfall=0.0, WindGustSpeed=26.0, WindSpeed9am=7.0, WindSpeed3pm=13.0, Humidity9am=74.0, Humidity3pm=46.0, Pressure9am=1035.2, Pressure3pm=1032.6, WindDir9am_index=10.0, WindDir3pm_index=5.0, RainToday_index=0.0, RainTomorrow_index=0.0, feature_vector=DenseVector([-3.0, 13.3, 0.0, 26.0, 7.0, 13.0, 74.0, 46.0, 1035.2, 1032.6, 10.0, 5.0, 0.0]), rawPrediction=DenseVector([1.454, -1.454]), probability=DenseVector([0.9482, 0.0518]), prediction=0.0),\n",
       " Row(MinTemp=-2.9, MaxTemp=12.2, Rainfall=0.0, WindGustSpeed=22.0, WindSpeed9am=0.0, WindSpeed3pm=11.0, Humidity9am=87.0, Humidity3pm=49.0, Pressure9am=1023.2, Pressure3pm=1019.1, WindDir9am_index=0.0, WindDir3pm_index=7.0, RainToday_index=0.0, RainTomorrow_index=1.0, feature_vector=DenseVector([-2.9, 12.2, 0.0, 22.0, 0.0, 11.0, 87.0, 49.0, 1023.2, 1019.1, 0.0, 7.0, 0.0]), rawPrediction=DenseVector([1.19, -1.19]), probability=DenseVector([0.9153, 0.0847]), prediction=0.0)]"
      ]
     },
     "execution_count": 62,
     "metadata": {},
     "output_type": "execute_result"
    }
   ],
   "source": [
    "GBT_Prediction.head(5)"
   ]
  },
  {
   "cell_type": "code",
   "execution_count": 63,
   "id": "a58d0573-2ccc-41e8-998f-457c4b14a665",
   "metadata": {},
   "outputs": [],
   "source": [
    "GBT_Evaluator = MulticlassClassificationEvaluator(labelCol = 'RainTomorrow_index', predictionCol = 'prediction')"
   ]
  },
  {
   "cell_type": "code",
   "execution_count": 64,
   "id": "0484cd96-9d5a-423f-a836-15a86ac8c403",
   "metadata": {},
   "outputs": [],
   "source": [
    "GBT_Accuracy = GBT_Evaluator.evaluate(GBT_Prediction)"
   ]
  },
  {
   "cell_type": "code",
   "execution_count": 65,
   "id": "f959f8e7-b38f-4eba-a7c7-7f87d80f7545",
   "metadata": {},
   "outputs": [
    {
     "name": "stdout",
     "output_type": "stream",
     "text": [
      "GBT Accuracy is : 82.78054327096406\n",
      "Test Error is : 0.17219456729035942\n"
     ]
    }
   ],
   "source": [
    "print('GBT Accuracy is : ' + str(GBT_Accuracy * 100))\n",
    "print('Test Error is : ' + str(1 - GBT_Accuracy))"
   ]
  },
  {
   "cell_type": "markdown",
   "id": "e32c522d-63f1-4dcb-9932-b046fceb7000",
   "metadata": {},
   "source": [
    "### Logistic Regression"
   ]
  },
  {
   "cell_type": "markdown",
   "id": "88d4923e-7918-4b83-a55d-ce98fa21a342",
   "metadata": {},
   "source": [
    "Using the `LogisticRegression()` and `.fit()` method on the training data."
   ]
  },
  {
   "cell_type": "code",
   "execution_count": 66,
   "id": "e9290896-44b1-4d3a-93db-f06ae64b370c",
   "metadata": {},
   "outputs": [],
   "source": [
    "LogReg_Classifier = LogisticRegression(regParam = 0.3, labelCol = \"RainTomorrow_index\", featuresCol = 'feature_vector', \\\n",
    "                                       maxIter = 20,  elasticNetParam = 0.8)"
   ]
  },
  {
   "cell_type": "code",
   "execution_count": 67,
   "id": "86e4f2bc-1025-4698-8bb7-ae624ad58aa3",
   "metadata": {},
   "outputs": [],
   "source": [
    "LogReg_Model = LogReg_Classifier.fit(rain_train)"
   ]
  },
  {
   "cell_type": "code",
   "execution_count": 68,
   "id": "8b327398-97d5-4a2d-9bd5-8e4850159f42",
   "metadata": {},
   "outputs": [],
   "source": [
    "LogReg_Prediction = LogReg_Model.transform(rain_test)"
   ]
  },
  {
   "cell_type": "code",
   "execution_count": 69,
   "id": "2f225ca2-914e-48b5-9a3b-0097f5be88ed",
   "metadata": {},
   "outputs": [
    {
     "data": {
      "text/plain": [
       "[Row(MinTemp=-4.7, MaxTemp=8.3, Rainfall=0.0, WindGustSpeed=30.0, WindSpeed9am=2.0, WindSpeed3pm=15.0, Humidity9am=76.0, Humidity3pm=64.0, Pressure9am=1026.7, Pressure3pm=1025.4, WindDir9am_index=12.0, WindDir3pm_index=5.0, RainToday_index=0.0, RainTomorrow_index=1.0, feature_vector=DenseVector([-4.7, 8.3, 0.0, 30.0, 2.0, 15.0, 76.0, 64.0, 1026.7, 1025.4, 12.0, 5.0, 0.0]), rawPrediction=DenseVector([1.2715, -1.2715]), probability=DenseVector([0.781, 0.219]), prediction=0.0),\n",
       " Row(MinTemp=-3.2, MaxTemp=15.7, Rainfall=0.0, WindGustSpeed=20.0, WindSpeed9am=2.0, WindSpeed3pm=13.0, Humidity9am=71.0, Humidity3pm=36.0, Pressure9am=1026.2, Pressure3pm=1023.0, WindDir9am_index=10.0, WindDir3pm_index=3.0, RainToday_index=0.0, RainTomorrow_index=0.0, feature_vector=DenseVector([-3.2, 15.7, 0.0, 20.0, 2.0, 13.0, 71.0, 36.0, 1026.2, 1023.0, 10.0, 3.0, 0.0]), rawPrediction=DenseVector([1.2715, -1.2715]), probability=DenseVector([0.781, 0.219]), prediction=0.0),\n",
       " Row(MinTemp=-3.1, MaxTemp=16.9, Rainfall=0.0, WindGustSpeed=39.0, WindSpeed9am=2.0, WindSpeed3pm=26.0, Humidity9am=83.0, Humidity3pm=35.0, Pressure9am=1020.0, Pressure3pm=1016.1, WindDir9am_index=1.0, WindDir3pm_index=7.0, RainToday_index=0.0, RainTomorrow_index=0.0, feature_vector=DenseVector([-3.1, 16.9, 0.0, 39.0, 2.0, 26.0, 83.0, 35.0, 1020.0, 1016.1, 1.0, 7.0, 0.0]), rawPrediction=DenseVector([1.2715, -1.2715]), probability=DenseVector([0.781, 0.219]), prediction=0.0),\n",
       " Row(MinTemp=-3.0, MaxTemp=13.3, Rainfall=0.0, WindGustSpeed=26.0, WindSpeed9am=7.0, WindSpeed3pm=13.0, Humidity9am=74.0, Humidity3pm=46.0, Pressure9am=1035.2, Pressure3pm=1032.6, WindDir9am_index=10.0, WindDir3pm_index=5.0, RainToday_index=0.0, RainTomorrow_index=0.0, feature_vector=DenseVector([-3.0, 13.3, 0.0, 26.0, 7.0, 13.0, 74.0, 46.0, 1035.2, 1032.6, 10.0, 5.0, 0.0]), rawPrediction=DenseVector([1.2715, -1.2715]), probability=DenseVector([0.781, 0.219]), prediction=0.0),\n",
       " Row(MinTemp=-2.9, MaxTemp=12.2, Rainfall=0.0, WindGustSpeed=22.0, WindSpeed9am=0.0, WindSpeed3pm=11.0, Humidity9am=87.0, Humidity3pm=49.0, Pressure9am=1023.2, Pressure3pm=1019.1, WindDir9am_index=0.0, WindDir3pm_index=7.0, RainToday_index=0.0, RainTomorrow_index=1.0, feature_vector=DenseVector([-2.9, 12.2, 0.0, 22.0, 0.0, 11.0, 87.0, 49.0, 1023.2, 1019.1, 0.0, 7.0, 0.0]), rawPrediction=DenseVector([1.2715, -1.2715]), probability=DenseVector([0.781, 0.219]), prediction=0.0)]"
      ]
     },
     "execution_count": 69,
     "metadata": {},
     "output_type": "execute_result"
    }
   ],
   "source": [
    "LogReg_Prediction.head(5)"
   ]
  },
  {
   "cell_type": "code",
   "execution_count": 70,
   "id": "e3008a34-4cc4-4cb0-862e-15cf82ef5383",
   "metadata": {},
   "outputs": [],
   "source": [
    "LogReg_Evaluator = MulticlassClassificationEvaluator(labelCol = \"RainTomorrow_index\", predictionCol = \"prediction\", \\\n",
    "                                                     metricName = \"accuracy\")"
   ]
  },
  {
   "cell_type": "code",
   "execution_count": 71,
   "id": "d1ff351c-cdd3-4531-87b6-822a753ba63d",
   "metadata": {},
   "outputs": [],
   "source": [
    "LogReg_Accuracy = LogReg_Evaluator.evaluate(LogReg_Prediction)"
   ]
  },
  {
   "cell_type": "code",
   "execution_count": 72,
   "id": "b0fb3174-aeeb-4f71-a9d6-1cd8610123ec",
   "metadata": {},
   "outputs": [
    {
     "name": "stdout",
     "output_type": "stream",
     "text": [
      "Logistic Regression Accuracy is : 78.02973213674042\n",
      "Test Error is : 0.21970267863259574\n"
     ]
    }
   ],
   "source": [
    "print('Logistic Regression Accuracy is : ' + str(LogReg_Accuracy * 100))\n",
    "print('Test Error is : ' + str(1 - LogReg_Accuracy))"
   ]
  },
  {
   "cell_type": "markdown",
   "id": "1d3852ec-b69b-42a3-b384-16d1186c4045",
   "metadata": {},
   "source": [
    "### Calculate the confusion matrix and find the precision-recall of each classification algorithm"
   ]
  },
  {
   "cell_type": "markdown",
   "id": "d0a45a5c-303b-4c60-8267-d676e653071c",
   "metadata": {},
   "source": [
    "### Gradient Boosted Tree Model Performance"
   ]
  },
  {
   "cell_type": "code",
   "execution_count": 73,
   "id": "d29f796f-14f9-4aa2-83c8-957fd48cc148",
   "metadata": {},
   "outputs": [
    {
     "name": "stderr",
     "output_type": "stream",
     "text": [
      "/usr/local/spark/python/pyspark/sql/context.py:125: FutureWarning: Deprecated in 3.0.0. Use SparkSession.builder.getOrCreate() instead.\n",
      "  warnings.warn(\n"
     ]
    }
   ],
   "source": [
    "GBT_Prediction_Labels = GBT_Prediction.select(['prediction', 'RainTomorrow_index'])\n",
    "\n",
    "GBT_KPI = MulticlassMetrics(GBT_Prediction_Labels.rdd.map(list))"
   ]
  },
  {
   "cell_type": "code",
   "execution_count": 74,
   "id": "873b23ca-d2fd-4699-8e3d-a50f3b035145",
   "metadata": {},
   "outputs": [
    {
     "name": "stdout",
     "output_type": "stream",
     "text": [
      "GBT Confusion Matrix\n",
      "[[21685.  1095.]\n",
      " [ 3513.  2901.]]\n"
     ]
    }
   ],
   "source": [
    "GBT_confusion_matrix = GBT_KPI.confusionMatrix().toArray()\n",
    "\n",
    "print('GBT Confusion Matrix')\n",
    "\n",
    "print(GBT_confusion_matrix)"
   ]
  },
  {
   "cell_type": "code",
   "execution_count": 75,
   "id": "d2804309-b1f6-4c73-8b91-453e1b746728",
   "metadata": {},
   "outputs": [
    {
     "name": "stdout",
     "output_type": "stream",
     "text": [
      "GBT Precision = 0.860584173347091\n"
     ]
    }
   ],
   "source": [
    "GBT_precision = (GBT_confusion_matrix[0][0]) / (GBT_confusion_matrix[0][0] + GBT_confusion_matrix[1][0])\n",
    "print('GBT Precision = ' + str(GBT_precision))"
   ]
  },
  {
   "cell_type": "code",
   "execution_count": 76,
   "id": "018f4b44-1205-49e0-bd6c-39f4c6cc6566",
   "metadata": {},
   "outputs": [
    {
     "name": "stdout",
     "output_type": "stream",
     "text": [
      "GBT Recall = 0.9519315188762072\n"
     ]
    }
   ],
   "source": [
    "GBT_recall = (GBT_confusion_matrix[0][0]) / (GBT_confusion_matrix[0][0] + GBT_confusion_matrix[0][1])\n",
    "print('GBT Recall = ' + str(GBT_recall))"
   ]
  },
  {
   "cell_type": "code",
   "execution_count": 77,
   "id": "f4cd9960-e373-455d-abae-4c2e0fad46c0",
   "metadata": {},
   "outputs": [
    {
     "name": "stdout",
     "output_type": "stream",
     "text": [
      "GBT F1 Score = 0.9039559798240862\n"
     ]
    }
   ],
   "source": [
    "GBT_f1Score = (GBT_precision * GBT_recall) / (GBT_precision + GBT_recall) * 2\n",
    "print('GBT F1 Score = ' + str(GBT_f1Score))"
   ]
  },
  {
   "cell_type": "markdown",
   "id": "fda5c24d-e543-42c6-9c31-c54e248a218b",
   "metadata": {},
   "source": [
    "### Decision Trees Model Performance"
   ]
  },
  {
   "cell_type": "code",
   "execution_count": 78,
   "id": "040ac308-58ba-4f75-9edd-801599341346",
   "metadata": {},
   "outputs": [],
   "source": [
    "DT_Prediction_Labels = DT_Prediction.select(['prediction', 'RainTomorrow_index'])\n",
    "\n",
    "DT_KPI = MulticlassMetrics(DT_Prediction_Labels.rdd.map(list))"
   ]
  },
  {
   "cell_type": "code",
   "execution_count": 79,
   "id": "7ba0b311-bcc0-4e12-828b-6a073fde30a8",
   "metadata": {},
   "outputs": [
    {
     "name": "stdout",
     "output_type": "stream",
     "text": [
      "DT Confusion Matrix\n",
      "[[21868.   912.]\n",
      " [ 3868.  2546.]]\n"
     ]
    }
   ],
   "source": [
    "DT_confusion_matrix = DT_KPI.confusionMatrix().toArray()\n",
    "\n",
    "print('DT Confusion Matrix')\n",
    "\n",
    "print(DT_confusion_matrix)"
   ]
  },
  {
   "cell_type": "code",
   "execution_count": 80,
   "id": "114adf26-a97a-406b-b9b1-98c1ee8bcd67",
   "metadata": {},
   "outputs": [
    {
     "name": "stdout",
     "output_type": "stream",
     "text": [
      "DT Precision = 0.8497046938141125\n"
     ]
    }
   ],
   "source": [
    "DT_precision = (DT_confusion_matrix[0][0]) / (DT_confusion_matrix[0][0] + DT_confusion_matrix[1][0])\n",
    "print('DT Precision = ' + str(DT_precision))"
   ]
  },
  {
   "cell_type": "code",
   "execution_count": 81,
   "id": "6222ce27-2e28-46b4-bd51-6a6964681719",
   "metadata": {},
   "outputs": [
    {
     "name": "stdout",
     "output_type": "stream",
     "text": [
      "DT Recall = 0.959964881474978\n"
     ]
    }
   ],
   "source": [
    "DT_recall = (DT_confusion_matrix[0][0]) / (DT_confusion_matrix[0][0] + DT_confusion_matrix[0][1])\n",
    "print('DT Recall = ' + str(DT_recall))"
   ]
  },
  {
   "cell_type": "code",
   "execution_count": 82,
   "id": "a5bb0f14-76f9-43bd-95bc-f50a323618a4",
   "metadata": {},
   "outputs": [
    {
     "name": "stdout",
     "output_type": "stream",
     "text": [
      "DT F1 Score = 0.9014758017973452\n"
     ]
    }
   ],
   "source": [
    "DT_f1Score = (DT_precision * DT_recall) / (DT_precision + DT_recall) * 2\n",
    "print('DT F1 Score = ' + str(DT_f1Score))"
   ]
  },
  {
   "cell_type": "markdown",
   "id": "0e699650-822d-4e7e-83e4-df6c4d11198c",
   "metadata": {},
   "source": [
    "### Random Forest Model Performance"
   ]
  },
  {
   "cell_type": "code",
   "execution_count": 83,
   "id": "f68b3666-73a8-415a-9a71-3fcd7e44a8d4",
   "metadata": {},
   "outputs": [],
   "source": [
    "RF_Prediction_Labels = RF_Prediction.select(['prediction', 'RainTomorrow_index'])\n",
    "\n",
    "RF_KPI = MulticlassMetrics(RF_Prediction_Labels.rdd.map(list))"
   ]
  },
  {
   "cell_type": "code",
   "execution_count": 84,
   "id": "93d96fbe-782e-4746-b0de-816ca10531f7",
   "metadata": {},
   "outputs": [
    {
     "name": "stdout",
     "output_type": "stream",
     "text": [
      "RF Confusion Matrix\n",
      "[[22068.   712.]\n",
      " [ 4059.  2355.]]\n"
     ]
    }
   ],
   "source": [
    "RF_confusion_matrix = RF_KPI.confusionMatrix().toArray()\n",
    "\n",
    "print('RF Confusion Matrix')\n",
    "\n",
    "print(RF_confusion_matrix)"
   ]
  },
  {
   "cell_type": "code",
   "execution_count": 85,
   "id": "4733b7d3-c6f3-45ee-bb41-0228ab4d8a87",
   "metadata": {},
   "outputs": [
    {
     "name": "stdout",
     "output_type": "stream",
     "text": [
      "RF Precision = 0.8446434722700654\n"
     ]
    }
   ],
   "source": [
    "RF_precision = (RF_confusion_matrix[0][0]) / (RF_confusion_matrix[0][0] + RF_confusion_matrix[1][0])\n",
    "print('RF Precision = ' + str(RF_precision))"
   ]
  },
  {
   "cell_type": "code",
   "execution_count": 86,
   "id": "5f0c7283-5cc0-4d53-aa19-2775e0adb65f",
   "metadata": {},
   "outputs": [
    {
     "name": "stdout",
     "output_type": "stream",
     "text": [
      "RF Recall = 0.9687445127304654\n"
     ]
    }
   ],
   "source": [
    "RF_recall = (RF_confusion_matrix[0][0]) / (RF_confusion_matrix[0][0] + RF_confusion_matrix[0][1])\n",
    "print('RF Recall = ' + str(RF_recall))"
   ]
  },
  {
   "cell_type": "code",
   "execution_count": 87,
   "id": "6d7a43b2-d6b8-486a-a1bb-5294386a3176",
   "metadata": {},
   "outputs": [
    {
     "name": "stdout",
     "output_type": "stream",
     "text": [
      "RF F1 Score = 0.9024475024025191\n"
     ]
    }
   ],
   "source": [
    "RF_f1Score = (RF_precision * RF_recall) / (RF_precision + RF_recall) * 2\n",
    "print('RF F1 Score = ' + str(RF_f1Score))"
   ]
  },
  {
   "cell_type": "markdown",
   "id": "bf00228e-a982-49c5-8fac-62ae98b75b43",
   "metadata": {},
   "source": [
    "### Logistic Regression Model Performance"
   ]
  },
  {
   "cell_type": "code",
   "execution_count": 88,
   "id": "cba3e987-dc60-4d91-9442-21611d4be3fd",
   "metadata": {},
   "outputs": [],
   "source": [
    "LogReg_Prediction_Labels = LogReg_Prediction.select(['prediction', 'RainTomorrow_index'])\n",
    "\n",
    "LogReg_KPI = MulticlassMetrics(LogReg_Prediction_Labels.rdd.map(list))"
   ]
  },
  {
   "cell_type": "code",
   "execution_count": 89,
   "id": "04917fd5-8922-4ae7-9891-6cba76553ef2",
   "metadata": {},
   "outputs": [
    {
     "name": "stdout",
     "output_type": "stream",
     "text": [
      "LogReg Confusion Matrix\n",
      "[[22780.     0.]\n",
      " [ 6414.     0.]]\n"
     ]
    }
   ],
   "source": [
    "LogReg_confusion_matrix = LogReg_KPI.confusionMatrix().toArray()\n",
    "\n",
    "print('LogReg Confusion Matrix')\n",
    "\n",
    "print(LogReg_confusion_matrix)"
   ]
  },
  {
   "cell_type": "code",
   "execution_count": 90,
   "id": "6db626a1-8953-4503-9ee9-e3ee3a8671a0",
   "metadata": {},
   "outputs": [
    {
     "name": "stdout",
     "output_type": "stream",
     "text": [
      "LogReg Precision = 0.7802973213674043\n"
     ]
    }
   ],
   "source": [
    "LogReg_precision = (LogReg_confusion_matrix[0][0]) / (LogReg_confusion_matrix[0][0] + LogReg_confusion_matrix[1][0])\n",
    "print('LogReg Precision = ' + str(LogReg_precision))"
   ]
  },
  {
   "cell_type": "code",
   "execution_count": 91,
   "id": "20f1bed1-110d-402c-aeb6-902f9236b78e",
   "metadata": {},
   "outputs": [
    {
     "name": "stdout",
     "output_type": "stream",
     "text": [
      "LogReg Recall = 1.0\n"
     ]
    }
   ],
   "source": [
    "LogReg_recall = (LogReg_confusion_matrix[0][0]) / (LogReg_confusion_matrix[0][0] + LogReg_confusion_matrix[0][1])\n",
    "print('LogReg Recall = ' + str(LogReg_recall))"
   ]
  },
  {
   "cell_type": "code",
   "execution_count": 92,
   "id": "fcd27b30-1795-4a42-a775-78f3a46e41da",
   "metadata": {},
   "outputs": [
    {
     "name": "stdout",
     "output_type": "stream",
     "text": [
      "LogReg F1 Score = 0.8765921422249586\n"
     ]
    }
   ],
   "source": [
    "LogReg_f1Score = (LogReg_precision * LogReg_recall) / (LogReg_precision + LogReg_recall) * 2\n",
    "print('LogReg F1 Score = ' + str(LogReg_f1Score))"
   ]
  },
  {
   "cell_type": "markdown",
   "id": "53d65657-04c3-4bfc-9731-e0919737b925",
   "metadata": {},
   "source": [
    "## Even though all the Spark ML algorithms works good to predict RainTomorrow, Gradient Boosted Tree Model performs better both in Accuracy and Precision "
   ]
  },
  {
   "cell_type": "code",
   "execution_count": null,
   "id": "18a46700-d57f-4ea1-adce-471e89e5ac1d",
   "metadata": {},
   "outputs": [],
   "source": []
  }
 ],
 "metadata": {
  "kernelspec": {
   "display_name": "Python 3 (ipykernel)",
   "language": "python",
   "name": "python3"
  },
  "language_info": {
   "codemirror_mode": {
    "name": "ipython",
    "version": 3
   },
   "file_extension": ".py",
   "mimetype": "text/x-python",
   "name": "python",
   "nbconvert_exporter": "python",
   "pygments_lexer": "ipython3",
   "version": "3.9.10"
  }
 },
 "nbformat": 4,
 "nbformat_minor": 5
}
