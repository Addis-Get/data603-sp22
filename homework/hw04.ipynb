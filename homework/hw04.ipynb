{
 "cells": [
  {
   "cell_type": "code",
   "execution_count": 1,
   "id": "ca5acb8c-6b86-43ef-9735-a996a1effb67",
   "metadata": {},
   "outputs": [],
   "source": [
    "import pyspark\n",
    "from pyspark.sql import SparkSession\n",
    "spark = SparkSession.builder.getOrCreate()\n",
    "sc = spark.sparkContext"
   ]
  },
  {
   "cell_type": "code",
   "execution_count": 2,
   "id": "396c9d4d-5541-4029-b08c-10f238aba38f",
   "metadata": {},
   "outputs": [
    {
     "data": {
      "text/html": [
       "\n",
       "            <div>\n",
       "                <p><b>SparkSession - in-memory</b></p>\n",
       "                \n",
       "        <div>\n",
       "            <p><b>SparkContext</b></p>\n",
       "\n",
       "            <p><a href=\"http://097518345a83:4041\">Spark UI</a></p>\n",
       "\n",
       "            <dl>\n",
       "              <dt>Version</dt>\n",
       "                <dd><code>v3.2.1</code></dd>\n",
       "              <dt>Master</dt>\n",
       "                <dd><code>local[*]</code></dd>\n",
       "              <dt>AppName</dt>\n",
       "                <dd><code>pyspark-shell</code></dd>\n",
       "            </dl>\n",
       "        </div>\n",
       "        \n",
       "            </div>\n",
       "        "
      ],
      "text/plain": [
       "<pyspark.sql.session.SparkSession at 0x7f7d29cef0a0>"
      ]
     },
     "execution_count": 2,
     "metadata": {},
     "output_type": "execute_result"
    }
   ],
   "source": [
    "spark"
   ]
  },
  {
   "cell_type": "code",
   "execution_count": 3,
   "id": "80184c90-9976-4555-bb6b-81a5d90dda63",
   "metadata": {},
   "outputs": [],
   "source": [
    "import pyspark.sql.functions as f\n",
    "from pyspark.sql.types import (StructType,\n",
    "                              StructField,\n",
    "                              StringType, \n",
    "                              IntegerType,\n",
    "                              TimestampType,\n",
    "                              DoubleType,\n",
    "                              BooleanType)\n",
    "from pyspark.sql.functions import unix_timestamp"
   ]
  },
  {
   "cell_type": "code",
   "execution_count": 4,
   "id": "c096e51e-fb79-4c9f-9689-477c36c9f53f",
   "metadata": {},
   "outputs": [
    {
     "name": "stdout",
     "output_type": "stream",
     "text": [
      "﻿X,Y,RowID,CrimeDateTime,CrimeCode,Location,Description,Inside_Outside,Weapon,Post,District,Neighborhood,Latitude,Longitude,GeoLocation,Premise,VRIName,Total_Incidents,Shape\n",
      "1420074.13302107,594160.602354662,1,2022/02/26 04:00:00+00,4E,200 W MONUMENT ST,COMMON ASSAULT,,NA,124,CENTRAL,MOUNT VERNON,39.2975,-76.6193,\"(39.2975,-76.6193)\",,,1,\n",
      "1411374.22509631,589791.383964529,2,2022/02/26 01:26:30+00,9S,2100 FREDERICK AVE,SHOOTING,Outside,FIREARM,835,SOUTHWEST,CARROLLTON RIDGE,39.2856,-76.6501,\"(39.2856,-76.6501)\",COMMON BUSINESS,Tri-District,1,\n",
      "1411401.16887136,582761.775193539,3,2022/02/26 10:22:00+00,4E,2000 GRINNALDS AVE,COMMON ASSAULT,,NA,831,SOUTHWEST,MORRELL PARK,39.2663,-76.6501,\"(39.2663,-76.6501)\",,,1,\n",
      "1422663.14365552,597595.359444412,4,2022/02/26 01:11:00+00,7A,400 E OLIVER ST,AUTO THEFT,,NA,313,EASTERN,GREENMOUNT WEST,39.3069,-76.6101,\"(39.3069,-76.6101)\",,,1,\n",
      "1440496.49709374,607767.144994879,5,2022/02/26 12:30:00+00,4B,5300 PLAINFIELD AVE,AGG. ASSAULT,,KNIFE,444,NORTHEAST,FRANKFORD,39.3346,-76.5469,\"(39.3346,-76.5469)\",,,1,\n",
      "1413036.07669276,584625.682223044,6,2022/02/26 05:40:00+00,5F,1300 WESTERN AVE,BURGLARY,,NA,941,SOUTHERN,CARROLL - CAMDEN INDUSTRIAL AREA,39.2714,-76.6443,\"(39.2714,-76.6443)\",,,1,\n",
      "1413036.07669276,584625.682223044,7,2022/02/26 05:40:00+00,6G,1300 WESTERN AVE,LARCENY,,NA,941,SOUTHERN,CARROLL - CAMDEN INDUSTRIAL AREA,39.2714,-76.6443,\"(39.2714,-76.6443)\",,,1,\n",
      "1413415.61575604,588925.125519094,8,2022/02/26 14:32:00+00,4E,1600 WILKENS AVE,COMMON ASSAULT,,NA,935,SOUTHERN,NEW SOUTHWEST/MOUNT CLARE,39.2832,-76.6429,\"(39.2832,-76.6429)\",,Tri-District,1,\n",
      "1417569.89995454,597537.684190899,9,2022/02/26 03:05:00+00,4B,300 MCMECHEN ST,AGG. ASSAULT,,KNIFE,132,CENTRAL,BOLTON HILL,39.3068,-76.6281,\"(39.3068,-76.6281)\",,,1,\n"
     ]
    }
   ],
   "source": [
    "!head Part1_Crime_data.csv"
   ]
  },
  {
   "cell_type": "code",
   "execution_count": 5,
   "id": "77eb5ac4-4243-4077-b001-8485e63d14e7",
   "metadata": {},
   "outputs": [],
   "source": [
    "crimeschema = StructType()\\\n",
    "      .add(\"X\", DoubleType(), True)\\\n",
    "      .add(\"Y\", DoubleType(), True)\\\n",
    "      .add(\"ROWID\", IntegerType(), True)\\\n",
    "      .add(\"CrimeDateTime\", StringType(), False)\\\n",
    "      .add(\"CrimeCode\", StringType(), True)\\\n",
    "      .add(\"Location\", StringType(), True)\\\n",
    "      .add(\"Description\", StringType(), True)\\\n",
    "      .add(\"Inside_Outside\", StringType(), True)\\\n",
    "      .add(\"Weapon\", StringType(), True)\\\n",
    "      .add(\"Post\", StringType(), True)\\\n",
    "      .add(\"District\", IntegerType(), True)\\\n",
    "      .add(\"Neighborhood\", StringType(), True)\\\n",
    "      .add(\"Latitude\", DoubleType(), True)\\\n",
    "      .add(\"Longitude\", DoubleType(), True)\\\n",
    "      .add(\"GeoLocation\", StringType(), True)\\\n",
    "      .add(\"Premise\", StringType(), True)\\\n",
    "      .add(\"VRIName\", DoubleType(), True)\\\n",
    "      .add(\"Total_Incidents\", IntegerType(), True)"
   ]
  },
  {
   "cell_type": "code",
   "execution_count": 6,
   "id": "bf5a6741-6a26-4000-b49c-e395a7669613",
   "metadata": {},
   "outputs": [],
   "source": [
    "df_crimeschema = spark.read.format(\"csv\")\\\n",
    "      .option(\"header\", True)\\\n",
    "      .schema(crimeschema)\\\n",
    "      .load(\"Part1_Crime_data.csv\")\n",
    "df_crimeschema = df_crimeschema.withColumn('CrimeDateTime', df_crimeschema['CrimeDateTime'].substr(1,19))\n",
    "df_crimeschema = df_crimeschema.withColumn('CrimeDateTime', unix_timestamp('CrimeDateTime', 'yyyy/MM/dd HH:mm:ss')\\\n",
    "                                           .cast(TimestampType()))"
   ]
  },
  {
   "cell_type": "code",
   "execution_count": 7,
   "id": "dfdb5c9e-b66e-4b2c-9103-bdf6490f1889",
   "metadata": {},
   "outputs": [
    {
     "name": "stdout",
     "output_type": "stream",
     "text": [
      "root\n",
      " |-- X: double (nullable = true)\n",
      " |-- Y: double (nullable = true)\n",
      " |-- ROWID: integer (nullable = true)\n",
      " |-- CrimeDateTime: timestamp (nullable = true)\n",
      " |-- CrimeCode: string (nullable = true)\n",
      " |-- Location: string (nullable = true)\n",
      " |-- Description: string (nullable = true)\n",
      " |-- Inside_Outside: string (nullable = true)\n",
      " |-- Weapon: string (nullable = true)\n",
      " |-- Post: string (nullable = true)\n",
      " |-- District: integer (nullable = true)\n",
      " |-- Neighborhood: string (nullable = true)\n",
      " |-- Latitude: double (nullable = true)\n",
      " |-- Longitude: double (nullable = true)\n",
      " |-- GeoLocation: string (nullable = true)\n",
      " |-- Premise: string (nullable = true)\n",
      " |-- VRIName: double (nullable = true)\n",
      " |-- Total_Incidents: integer (nullable = true)\n",
      "\n",
      "+----------------+----------------+-----+-------------------+---------+-------------------+--------------+--------------+-------+----+--------+----------------+--------+---------+------------------+---------------+-------+---------------+\n",
      "|               X|               Y|ROWID|      CrimeDateTime|CrimeCode|           Location|   Description|Inside_Outside| Weapon|Post|District|    Neighborhood|Latitude|Longitude|       GeoLocation|        Premise|VRIName|Total_Incidents|\n",
      "+----------------+----------------+-----+-------------------+---------+-------------------+--------------+--------------+-------+----+--------+----------------+--------+---------+------------------+---------------+-------+---------------+\n",
      "|1420074.13302107|594160.602354662|    1|2022-02-26 04:00:00|       4E|  200 W MONUMENT ST|COMMON ASSAULT|          null|     NA| 124|    null|    MOUNT VERNON| 39.2975| -76.6193|(39.2975,-76.6193)|           null|   null|              1|\n",
      "|1411374.22509631|589791.383964529|    2|2022-02-26 01:26:30|       9S| 2100 FREDERICK AVE|      SHOOTING|       Outside|FIREARM| 835|    null|CARROLLTON RIDGE| 39.2856| -76.6501|(39.2856,-76.6501)|COMMON BUSINESS|   null|              1|\n",
      "|1411401.16887136|582761.775193539|    3|2022-02-26 10:22:00|       4E| 2000 GRINNALDS AVE|COMMON ASSAULT|          null|     NA| 831|    null|    MORRELL PARK| 39.2663| -76.6501|(39.2663,-76.6501)|           null|   null|              1|\n",
      "|1422663.14365552|597595.359444412|    4|2022-02-26 01:11:00|       7A|    400 E OLIVER ST|    AUTO THEFT|          null|     NA| 313|    null| GREENMOUNT WEST| 39.3069| -76.6101|(39.3069,-76.6101)|           null|   null|              1|\n",
      "|1440496.49709374|607767.144994879|    5|2022-02-26 12:30:00|       4B|5300 PLAINFIELD AVE|  AGG. ASSAULT|          null|  KNIFE| 444|    null|       FRANKFORD| 39.3346| -76.5469|(39.3346,-76.5469)|           null|   null|              1|\n",
      "+----------------+----------------+-----+-------------------+---------+-------------------+--------------+--------------+-------+----+--------+----------------+--------+---------+------------------+---------------+-------+---------------+\n",
      "only showing top 5 rows\n",
      "\n"
     ]
    }
   ],
   "source": [
    "df_crimeschema.unpersist()\n",
    "df_crimeschema.printSchema()\n",
    "df_crimeschema.show(5)"
   ]
  },
  {
   "cell_type": "code",
   "execution_count": 8,
   "id": "39667e15-b7d0-44f9-970c-2dc4ca84c0cc",
   "metadata": {},
   "outputs": [
    {
     "data": {
      "text/plain": [
       "513158"
      ]
     },
     "execution_count": 8,
     "metadata": {},
     "output_type": "execute_result"
    }
   ],
   "source": [
    "df_crimeschema.count()"
   ]
  },
  {
   "cell_type": "code",
   "execution_count": 9,
   "id": "a8436f3c-8c4d-4014-8d59-97c91778023f",
   "metadata": {},
   "outputs": [
    {
     "name": "stdout",
     "output_type": "stream",
     "text": [
      "18\n"
     ]
    }
   ],
   "source": [
    "print(len(df_crimeschema.columns))"
   ]
  },
  {
   "cell_type": "markdown",
   "id": "0bce2107-38d1-44e4-ba1e-ae4e0e5b5288",
   "metadata": {},
   "source": [
    "# 1. What are distinct crime codes?"
   ]
  },
  {
   "cell_type": "code",
   "execution_count": 10,
   "id": "b7b84467-9002-402a-98ac-ef88096ef67d",
   "metadata": {},
   "outputs": [
    {
     "data": {
      "text/plain": [
       "['3P',\n",
       " '3K',\n",
       " '3BJ',\n",
       " '1A',\n",
       " '3M',\n",
       " '5F',\n",
       " '4B',\n",
       " '3B',\n",
       " '7A',\n",
       " '3NF',\n",
       " '3EF',\n",
       " '3N',\n",
       " '5D',\n",
       " '3LO',\n",
       " '3AF',\n",
       " '7B',\n",
       " '3GO',\n",
       " '3AJF',\n",
       " '8AO',\n",
       " '7C',\n",
       " '3AK',\n",
       " '3GK',\n",
       " '6L',\n",
       " '3EO',\n",
       " '3JO',\n",
       " '3F',\n",
       " '1K',\n",
       " '8H',\n",
       " '8CV',\n",
       " '4C',\n",
       " '5A',\n",
       " '6C',\n",
       " '3NK',\n",
       " '3D',\n",
       " '6H',\n",
       " '3LK',\n",
       " '3AJK',\n",
       " '3CO',\n",
       " '3L',\n",
       " '4E',\n",
       " '6D',\n",
       " '2A',\n",
       " '3C',\n",
       " '8I',\n",
       " '3NO',\n",
       " '3JF',\n",
       " '3E',\n",
       " '3LF',\n",
       " '1O',\n",
       " '8J',\n",
       " '3CK',\n",
       " '8BO',\n",
       " '2B',\n",
       " '3JK',\n",
       " '5B',\n",
       " '4A',\n",
       " '8GO',\n",
       " '8EV',\n",
       " '3CF',\n",
       " '8EO',\n",
       " '6G',\n",
       " '6A',\n",
       " '9S',\n",
       " '3EK',\n",
       " '3GF',\n",
       " '3H',\n",
       " '4D',\n",
       " '8FO',\n",
       " '6J',\n",
       " '6F',\n",
       " '6E',\n",
       " '3J',\n",
       " '5C',\n",
       " '5G',\n",
       " '8AV',\n",
       " '5E',\n",
       " '3AJO',\n",
       " '3AO',\n",
       " '6B',\n",
       " '6K',\n",
       " '8GV',\n",
       " '8BV',\n",
       " '8FV',\n",
       " '8CO',\n",
       " '8DO']"
      ]
     },
     "execution_count": 10,
     "metadata": {},
     "output_type": "execute_result"
    }
   ],
   "source": [
    "Crime_Code_list = df_crimeschema.select('CrimeCode').distinct().rdd.map(lambda r: r[0]).collect()\n",
    "Crime_Code_list"
   ]
  },
  {
   "cell_type": "markdown",
   "id": "43f8257c-c93c-46b4-99dd-9a39d0ff42b6",
   "metadata": {},
   "source": [
    "# 2. Count the number of crimes by the crime codes and order by the resulting counts in descending order"
   ]
  },
  {
   "cell_type": "code",
   "execution_count": 11,
   "id": "f00727ae-44ec-4302-8d7a-f2d11e373c68",
   "metadata": {},
   "outputs": [
    {
     "name": "stdout",
     "output_type": "stream",
     "text": [
      "+---------+-----+\n",
      "|CrimeCode|count|\n",
      "+---------+-----+\n",
      "|       4E|91650|\n",
      "|       6D|68427|\n",
      "|       5A|43928|\n",
      "|       7A|40274|\n",
      "|       6J|27636|\n",
      "|       6G|26858|\n",
      "|       6E|24300|\n",
      "|       6C|23227|\n",
      "|       4C|22438|\n",
      "|       5D|14971|\n",
      "|      3AF|14739|\n",
      "|       4B|14460|\n",
      "|       4A|13226|\n",
      "|       3B|10737|\n",
      "|       4D| 7232|\n",
      "|       5B| 6475|\n",
      "|       9S| 5443|\n",
      "|       6F| 5081|\n",
      "|       5C| 4917|\n",
      "|       6B| 4106|\n",
      "|      3CF| 3771|\n",
      "|       2A| 3168|\n",
      "|     3AJF| 3018|\n",
      "|      3AK| 2982|\n",
      "|       3K| 2833|\n",
      "|       7C| 2725|\n",
      "|       1A| 2624|\n",
      "|      3AO| 2473|\n",
      "|       5F| 2182|\n",
      "|      3JF| 1815|\n",
      "|       3D| 1432|\n",
      "|       5E| 1419|\n",
      "|       6L| 1205|\n",
      "|       8H| 1051|\n",
      "|       3P|  873|\n",
      "|      3GF|  789|\n",
      "|       6A|  781|\n",
      "|      3BJ|  754|\n",
      "|      3CK|  591|\n",
      "|      3CO|  516|\n",
      "|      3NF|  441|\n",
      "|      3JK|  423|\n",
      "|      8AO|  413|\n",
      "|      3JO|  413|\n",
      "|       2B|  355|\n",
      "|       7B|  287|\n",
      "|       8J|  279|\n",
      "|       3H|  261|\n",
      "|       1K|  230|\n",
      "|     3AJO|  224|\n",
      "|       6H|  222|\n",
      "|       3J|  210|\n",
      "|       1O|  191|\n",
      "|      3EF|  176|\n",
      "|       3N|  176|\n",
      "|     3AJK|  172|\n",
      "|      8FO|  154|\n",
      "|      3GO|  131|\n",
      "|       3M|  121|\n",
      "|      8AV|  121|\n",
      "|       3F|  120|\n",
      "|      3NK|  120|\n",
      "|      3GK|  116|\n",
      "|      8BO|  104|\n",
      "|      3LF|   97|\n",
      "|      3NO|   83|\n",
      "|      8EO|   77|\n",
      "|       8I|   50|\n",
      "|      3EO|   45|\n",
      "|      3EK|   41|\n",
      "|      3LO|   35|\n",
      "|      8BV|   26|\n",
      "|      8GO|   24|\n",
      "|       5G|   21|\n",
      "|      8CO|   13|\n",
      "|      8EV|   10|\n",
      "|      8FV|    9|\n",
      "|       6K|    7|\n",
      "|      8GV|    7|\n",
      "|      8CV|    7|\n",
      "|       3E|    6|\n",
      "|      3LK|    5|\n",
      "|       3C|    4|\n",
      "|      8DO|    3|\n",
      "|       3L|    1|\n",
      "+---------+-----+\n",
      "\n"
     ]
    }
   ],
   "source": [
    "df_crimeschema.createOrReplaceTempView('Crimes')\n",
    "\n",
    "query = \"\"\"\n",
    "SELECT CrimeCode, COUNT(*) as count\n",
    "FROM Crimes\n",
    "GROUP BY CrimeCode\n",
    "ORDER BY count DESC\n",
    "\"\"\"\n",
    "output = spark.sql(query)\n",
    "output.show(len(Crime_Code_list))"
   ]
  },
  {
   "cell_type": "markdown",
   "id": "22965e99-413e-49e4-8846-92849849e6eb",
   "metadata": {},
   "source": [
    "# 3. Which neighborhood had most crimes?"
   ]
  },
  {
   "cell_type": "code",
   "execution_count": 12,
   "id": "00856557-f94b-4406-accd-459a712b1e56",
   "metadata": {},
   "outputs": [
    {
     "name": "stdout",
     "output_type": "stream",
     "text": [
      "+------------+-----+\n",
      "|Neighborhood|count|\n",
      "+------------+-----+\n",
      "|    DOWNTOWN|17799|\n",
      "+------------+-----+\n",
      "only showing top 1 row\n",
      "\n"
     ]
    }
   ],
   "source": [
    "df_crimeschema.createOrReplaceTempView('Neighborhoods')\n",
    "\n",
    "query_2 = \"\"\"\n",
    "SELECT Neighborhood, COUNT(*) as count\n",
    "FROM Neighborhoods\n",
    "GROUP BY Neighborhood\n",
    "ORDER BY count DESC\n",
    "\n",
    "\"\"\"\n",
    "output_1 = spark.sql(query_2)\n",
    "output_1.show(1)"
   ]
  },
  {
   "cell_type": "markdown",
   "id": "c39f6bf1-abd5-476a-93de-d6f899cf600f",
   "metadata": {},
   "source": [
    "# 4. Which month of the year had most crimes?"
   ]
  },
  {
   "cell_type": "code",
   "execution_count": 13,
   "id": "2ab8e4ea-8d09-4dbd-81ca-f3041689c4f2",
   "metadata": {},
   "outputs": [
    {
     "name": "stdout",
     "output_type": "stream",
     "text": [
      "+-----+-----+\n",
      "|Month|count|\n",
      "+-----+-----+\n",
      "|    8|46327|\n",
      "+-----+-----+\n",
      "only showing top 1 row\n",
      "\n"
     ]
    }
   ],
   "source": [
    "from pyspark.sql.functions import to_timestamp,date_format\n",
    "from pyspark.sql.functions import col\n",
    "df_new = df_crimeschema.withColumn(\"CrimeDateTime\",to_timestamp(col(\"CrimeDateTime\"))).withColumn(\"Month\", date_format(col(\"CrimeDateTime\"), \"M\"))\n",
    "df_new = df_new.where(col(\"Month\").isNotNull()).groupBy(\"Month\").count().orderBy(\"count\").sort(col('count').desc())\n",
    "df_new = df_new.show(1)"
   ]
  },
  {
   "cell_type": "markdown",
   "id": "555ec9c1-4866-4702-a8a9-60ff841efcb6",
   "metadata": {},
   "source": [
    "# 5. What weapons were used?"
   ]
  },
  {
   "cell_type": "code",
   "execution_count": 14,
   "id": "6069e196-dcae-4d20-8dd1-028cc6c4f1b0",
   "metadata": {},
   "outputs": [
    {
     "data": {
      "text/plain": [
       "['HANDS', 'KNIFE', 'OTHER', 'FIRE', 'FIREARM']"
      ]
     },
     "execution_count": 14,
     "metadata": {},
     "output_type": "execute_result"
    }
   ],
   "source": [
    "weapons = df_crimeschema.select('Weapon').filter(col('Weapon') != 'NA').dropna().distinct().rdd.map(lambda w: w[0]).collect()\n",
    "weapons"
   ]
  },
  {
   "cell_type": "markdown",
   "id": "6202aedf-7fff-497b-bff4-69f5074f7629",
   "metadata": {},
   "source": [
    "# 6. Which weapon was used the most? "
   ]
  },
  {
   "cell_type": "code",
   "execution_count": 15,
   "id": "2399c08c-f106-4d47-a116-129e0f45d8b4",
   "metadata": {},
   "outputs": [
    {
     "name": "stdout",
     "output_type": "stream",
     "text": [
      "+-------+-----+\n",
      "| Weapon|count|\n",
      "+-------+-----+\n",
      "|FIREARM|46139|\n",
      "+-------+-----+\n",
      "only showing top 1 row\n",
      "\n"
     ]
    }
   ],
   "source": [
    "df_crimeschema.createOrReplaceTempView('Weapons_1')\n",
    "\n",
    "query_3 = \"\"\"\n",
    "SELECT Weapons_1.Weapon, COUNT(*) as count \n",
    "FROM Weapons_1 \n",
    "WHERE Weapon !='NA'\n",
    "GROUP BY Weapon\n",
    "ORDER BY count DESC\n",
    "\n",
    "\"\"\"\n",
    "output_3 = spark.sql(query_3)\n",
    "output_3.show(1)"
   ]
  },
  {
   "cell_type": "code",
   "execution_count": null,
   "id": "a45cec9d-dcc9-4209-8c71-42f27019b6a0",
   "metadata": {},
   "outputs": [],
   "source": []
  }
 ],
 "metadata": {
  "kernelspec": {
   "display_name": "Python 3 (ipykernel)",
   "language": "python",
   "name": "python3"
  },
  "language_info": {
   "codemirror_mode": {
    "name": "ipython",
    "version": 3
   },
   "file_extension": ".py",
   "mimetype": "text/x-python",
   "name": "python",
   "nbconvert_exporter": "python",
   "pygments_lexer": "ipython3",
   "version": "3.9.10"
  }
 },
 "nbformat": 4,
 "nbformat_minor": 5
}
