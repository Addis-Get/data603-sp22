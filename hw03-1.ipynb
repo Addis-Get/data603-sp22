{
 "cells": [
  {
   "cell_type": "markdown",
   "id": "08377d00",
   "metadata": {},
   "source": [
    "# Average number of words in each review"
   ]
  },
  {
   "cell_type": "code",
   "execution_count": 9,
   "id": "af61a525",
   "metadata": {},
   "outputs": [
    {
     "name": "stdout",
     "output_type": "stream",
     "text": [
      "Requirement already satisfied: mrjob in c:\\users\\aaddi\\anaconda3\\lib\\site-packages (0.7.4)\n",
      "Requirement already satisfied: PyYAML>=3.10 in c:\\users\\aaddi\\anaconda3\\lib\\site-packages (from mrjob) (6.0)\n"
     ]
    }
   ],
   "source": [
    "!pip install mrjob"
   ]
  },
  {
   "cell_type": "code",
   "execution_count": 10,
   "id": "61c6aada",
   "metadata": {},
   "outputs": [
    {
     "name": "stdout",
     "output_type": "stream",
     "text": [
      "Writing homework3_1.py\n"
     ]
    }
   ],
   "source": [
    "%%file homework3_1.py\n",
    "from mrjob.job import MRJob\n",
    "import csv\n",
    "\n",
    "class MRYelpAvergeWords(MRJob):\n",
    "\n",
    "    def mapper(self, _, line):\n",
    "        if line.startswith('business_id'):\n",
    "            pass\n",
    "        else:\n",
    "            reader = csv.reader([line])\n",
    "            parsed_line = next(reader)\n",
    "            yield \"lines\", len(parsed_line[4].split(' '))\n",
    "        \n",
    "    def reducer(self, key, values):\n",
    "        listvalues = list(values)\n",
    "        yield key, sum(listvalues) / len(listvalues)\n",
    "\n",
    "\n",
    "if __name__ == '__main__':\n",
    "    MRYelpAverageWords.run()"
   ]
  },
  {
   "cell_type": "code",
   "execution_count": null,
   "id": "2a002ed2",
   "metadata": {},
   "outputs": [],
   "source": []
  }
 ],
 "metadata": {
  "kernelspec": {
   "display_name": "Python 3 (ipykernel)",
   "language": "python",
   "name": "python3"
  },
  "language_info": {
   "codemirror_mode": {
    "name": "ipython",
    "version": 3
   },
   "file_extension": ".py",
   "mimetype": "text/x-python",
   "name": "python",
   "nbconvert_exporter": "python",
   "pygments_lexer": "ipython3",
   "version": "3.9.7"
  }
 },
 "nbformat": 4,
 "nbformat_minor": 5
}
